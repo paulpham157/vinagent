{
 "cells": [
  {
   "cell_type": "markdown",
   "id": "5e980a08",
   "metadata": {},
   "source": [
    "# Finding Trending new on Google New about a certain topic"
   ]
  },
  {
   "cell_type": "markdown",
   "id": "74c19ddd",
   "metadata": {},
   "source": [
    "## Install libraries"
   ]
  },
  {
   "cell_type": "code",
   "execution_count": null,
   "id": "27f716b4",
   "metadata": {},
   "outputs": [],
   "source": [
    "%pip install vinagent \n",
    "%pip install tavily-python=0.3.1 googlenewsdecoder=0.1.7 langchain-together=0.3.0"
   ]
  },
  {
   "cell_type": "markdown",
   "id": "10a5b8dd",
   "metadata": {},
   "source": [
    "## Setup environment variables"
   ]
  },
  {
   "cell_type": "markdown",
   "id": "d35bff83",
   "metadata": {},
   "source": [
    "To use a list of default tools inside [vinagent.tools](vinagent/tools/) you should set environment varibles inside `.env` including `TOGETHER_API_KEY` to use llm models at [togetherai](https://api.together.ai/signin) site and `TAVILY_API_KEY` to use tavily websearch tool at [tavily](https://app.tavily.com/home) site:"
   ]
  },
  {
   "cell_type": "code",
   "execution_count": null,
   "id": "75b59050",
   "metadata": {},
   "outputs": [],
   "source": [
    "%%writefile .env\n",
    "TOGETHER_API_KEY=your_api_key\n",
    "TAVILY_API_KEY=your_tavily_api_key"
   ]
  },
  {
   "cell_type": "markdown",
   "id": "645f03e9",
   "metadata": {},
   "source": [
    "## Initialize your LLM and Agent"
   ]
  },
  {
   "cell_type": "code",
   "execution_count": null,
   "id": "f6c3adf0",
   "metadata": {},
   "outputs": [
    {
     "name": "stderr",
     "output_type": "stream",
     "text": [
      "INFO:httpx:HTTP Request: POST https://api.together.xyz/v1/chat/completions \"HTTP/1.1 200 OK\"\n",
      "INFO:vinagent.register.tool:Registered trending_news_google_tools:\n",
      "{'tool_name': 'trending_news_google_tools', 'arguments': {'top_k': 5, 'topic': 'AI', 'host_language': 'en-US', 'geo_location': 'US'}, 'return': 'a list of dictionaries containing the title, link, and summary of the top trending news', 'docstring': 'Summarize the top trending news from Google News from a given topic.', 'dependencies': ['logging', 're', 'typing', 'requests', 'dotenv', 'pandas', 'bs4', 'urllib.parse', 'langchain_together', 'googlenewsdecoder'], 'module_path': 'vinagent.tools.trending_news', 'tool_type': 'module', 'tool_call_id': 'tool_64ac41d7-450e-4ca1-8280-9fd3c37dc40c'}\n",
      "INFO:vinagent.register.tool:Registered TrendingTopics.get_ai_news:\n",
      "{'tool_name': 'TrendingTopics.get_ai_news', 'arguments': {'top_k': 5, 'topic': 'artificial intelligence', 'host_language': 'en-US', 'geo_location': 'US'}, 'return': 'pd.DataFrame: DataFrame containing article links', 'docstring': 'Fetch top 10 AI news articles.', 'dependencies': ['logging', 're', 'typing', 'requests', 'dotenv', 'pandas', 'bs4', 'urllib.parse', 'langchain_together', 'googlenewsdecoder'], 'module_path': 'vinagent.tools.trending_news', 'tool_type': 'module', 'tool_call_id': 'tool_c0f25283-ee65-4381-a91c-63d4c62a3466'}\n",
      "INFO:vinagent.register.tool:Registered TrendingTopics.get_summary:\n",
      "{'tool_name': 'TrendingTopics.get_summary', 'arguments': {'news_id': 0}, 'return': 'Dict', 'docstring': 'Generate JSON summary for a news article.', 'dependencies': ['logging', 're', 'typing', 'requests', 'dotenv', 'pandas', 'bs4', 'urllib.parse', 'langchain_together', 'googlenewsdecoder'], 'module_path': 'vinagent.tools.trending_news', 'tool_type': 'module', 'tool_call_id': 'tool_3b64284b-e858-43f4-9fec-fc9c7d85de50'}\n",
      "INFO:vinagent.register.tool:Registered TrendingTopics.summarize_article:\n",
      "{'tool_name': 'TrendingTopics.summarize_article', 'arguments': {'title': '', 'source_url': ''}, 'return': 'Optional[str]', 'docstring': 'Generate structured article summary.', 'dependencies': ['logging', 're', 'typing', 'requests', 'dotenv', 'pandas', 'bs4', 'urllib.parse', 'langchain_together', 'googlenewsdecoder'], 'module_path': 'vinagent.tools.trending_news', 'tool_type': 'module', 'tool_call_id': 'tool_647b02a0-66ac-4b49-9764-99d42ab41f61'}\n",
      "INFO:vinagent.register.tool:Registered TrendingTopics.extract_text_from_rss_url:\n",
      "{'tool_name': 'TrendingTopics.extract_text_from_rss_url', 'arguments': {'rss_url': ''}, 'return': 'Optional[str]', 'docstring': 'Extract cleaned text from RSS URL.', 'dependencies': ['logging', 're', 'typing', 'requests', 'dotenv', 'pandas', 'bs4', 'urllib.parse', 'langchain_together', 'googlenewsdecoder'], 'module_path': 'vinagent.tools.trending_news', 'tool_type': 'module', 'tool_call_id': 'tool_c9369568-fbaa-4a7e-a3a0-739efae35cfb'}\n",
      "INFO:vinagent.register.tool:Registered TrendingTopics.decode_rss_url:\n",
      "{'tool_name': 'TrendingTopics.decode_rss_url', 'arguments': {'source_url': ''}, 'return': 'Optional[str]', 'docstring': 'Decode Google News RSS URL.', 'dependencies': ['logging', 're', 'typing', 'requests', 'dotenv', 'pandas', 'bs4', 'urllib.parse', 'langchain_together', 'googlenewsdecoder'], 'module_path': 'vinagent.tools.trending_news', 'tool_type': 'module', 'tool_call_id': 'tool_ec0cb8c7-743c-4a8c-b753-4ef0a969c4f6'}\n",
      "INFO:vinagent.register.tool:Registered TrendingTopics._is_valid_url:\n",
      "{'tool_name': 'TrendingTopics._is_valid_url', 'arguments': {'url': ''}, 'return': 'bool', 'docstring': 'Validate URL format.', 'dependencies': ['logging', 're', 'typing', 'requests', 'dotenv', 'pandas', 'bs4', 'urllib.parse', 'langchain_together', 'googlenewsdecoder'], 'module_path': 'vinagent.tools.trending_news', 'tool_type': 'module', 'tool_call_id': 'tool_fdb1acc0-0086-4ca9-af29-c122100c854a'}\n",
      "INFO:vinagent.register.tool:Completed registration for module vinagent.tools.trending_news\n"
     ]
    }
   ],
   "source": [
    "from langchain_together import ChatTogether \n",
    "from vinagent.agent.agent import Agent\n",
    "from dotenv import load_dotenv, find_dotenv\n",
    "\n",
    "load_dotenv(find_dotenv('.env')) # Replace by your own .env absolute path file\n",
    "\n",
    "llm = ChatTogether(\n",
    "    model=\"meta-llama/Llama-3.3-70B-Instruct-Turbo-Free\"\n",
    ")\n",
    "\n",
    "agent = Agent(\n",
    "    description=\"You are a Financial Analyst\",\n",
    "    llm = llm,\n",
    "    skills = [\n",
    "        \"Deeply analyzing financial markets\", \n",
    "        \"Searching information about stock price\",\n",
    "        \"Visualization about stock price\"],\n",
    "    tools = [\n",
    "        'vinagent.tools.trending_news'\n",
    "    ],\n",
    "    tools_path = 'templates/tools.json',\n",
    "    is_reset_tools = True\n",
    ")"
   ]
  },
  {
   "cell_type": "markdown",
   "id": "91b4eb15",
   "metadata": {},
   "source": [
    "## Asking your agent"
   ]
  },
  {
   "cell_type": "code",
   "execution_count": null,
   "id": "a2272cc8",
   "metadata": {},
   "outputs": [],
   "source": [
    "message = agent.invoke(\"\"\"Let's find the top 5 trending news about NVIDIA today.\"\"\")"
   ]
  },
  {
   "cell_type": "code",
   "execution_count": 9,
   "id": "cdb9d5c7",
   "metadata": {},
   "outputs": [
    {
     "data": {
      "text/markdown": [
       "# Where Will Nvidia Stock Be in 10 Years? - Yahoo Finance\n",
       "## What is new?\n",
       "Nvidia's generative AI business is still performing well, but there are signs of slowing growth. The company's revenue growth has decelerated to 69% from 262% in the previous fiscal quarter. Additionally, new technologies like self-driving cars and robotics could be key to Nvidia's long-term success, with potential annual revenue of $300 billion to $400 billion by 2035 for self-driving technology and $38 billion for humanoid robots.\n",
       "\n",
       "## Highlight\n",
       "The key points of the article include: Nvidia's data center business represents 89% of its total revenue, the company's AI chip business may be slowing down, and new business verticals like robotics and self-driving cars could help diversify Nvidia's revenue streams. The company's automation and robotics segment has already shown significant growth, with first-quarter sales jumping 72% year over year to $567 million.\n",
       "\n",
       "## Why it matters\n",
       "The potential slowing down of Nvidia's AI chip business and the company's ability to pivot to new technologies will have a significant impact on its long-term success. If Nvidia can successfully transition to new business verticals, it could maintain its dominant position in the market and continue to thrive. However, if it fails to adapt to changing conditions, it may experience stagnation or decline, as has been the case with other companies that have failed to evolve with technological advancements.\n",
       "\n",
       "## Link\n",
       "https://finance.yahoo.com/news/where-nvidia-stock-10-years-200000792.html\n",
       "\n",
       "# Nvidia's latest DLSS revision reduces VRAM usage by 20% for upscaling — optimizations reduce overhead of more powerful transformer model - Tom's Hardware\n",
       "## What is new?\n",
       "Nvidia has released a new revision of its DLSS (Deep Learning Super Sampling) technology, which reduces VRAM usage by 20% for upscaling. This update optimizes the transformer model, making it more efficient and reducing its memory footprint. The new revision, DLSS 310.3.0, improves the transformer model's VRAM usage, bringing it closer to the older CNN model's memory impact.\n",
       "\n",
       "## Highlight\n",
       "The key points of this update include:\n",
       "* 20% reduction in VRAM usage for upscaling\n",
       "* Optimizations reduce the overhead of the more powerful transformer model\n",
       "* The new transformer model consumes 40% more memory than the CNN model, down from nearly twice as much\n",
       "* Memory consumption increases linearly with resolution, with the transformer model consuming 85.77MB of VRAM at 1080p and 307.37MB at 4K\n",
       "\n",
       "## Why it matters\n",
       "This update is significant because it shows Nvidia's commitment to improving the efficiency of its DLSS technology. While the 20% reduction in VRAM usage may not have a noticeable impact on real-world applications, it demonstrates the company's efforts to optimize its technology for better performance. Additionally, the reduction in memory footprint could be beneficial for systems with limited VRAM, particularly at higher resolutions like 8K. This update also highlights the ongoing development and refinement of DLSS, which is now used in over 760 games and apps.\n",
       "\n",
       "## Link\n",
       "https://www.tomshardware.com/pc-components/gpus/nvidias-latest-dlss-revision-reduces-vram-usage-by-20-percent-for-upscaling-optimizations-reduce-overhead-of-more-powerful-transformer-model\n",
       "\n",
       "# Nvidia executives cash out $1bn worth of shares - Financial Times\n",
       "## What is new?\n",
       "Nvidia executives have recently sold a substantial amount of shares, totaling $1 billion in value. This significant transaction has drawn attention to the company's internal dynamics and potential future directions.\n",
       "\n",
       "## Highlight\n",
       "The key points of this news include the large-scale sale of Nvidia shares by its executives, amounting to $1 billion. This move could indicate a shift in the executives' confidence in the company's future prospects or a strategic decision to diversify their personal investments.\n",
       "\n",
       "## Why it matters\n",
       "The sale of such a large volume of shares by Nvidia executives could have implications for investor confidence and the company's stock price. It may also signal potential changes in Nvidia's leadership or strategy, as significant insider transactions often attract scrutiny from investors and market analysts. Understanding the motivations behind this sale can provide insights into the company's future growth prospects and industry trends.\n",
       "\n",
       "## Link\n",
       "https://www.ft.com/content/36f346ad-c649-42ac-a6b6-1a8cc881e0bb\n",
       "\n",
       "# Nvidia: The Music Is About To Stop (NASDAQ:NVDA) - Seeking Alpha\n",
       "## What is new?\n",
       "The article discusses the potential risks and challenges facing Nvidia Corporation, including macro and geopolitical risks, rising competition, and their potential impact on the company's performance. The authors, Bears of Wall Street, maintain a bearish stance on NVDA stock, citing these factors as reasons to sell.\n",
       "\n",
       "## Highlight\n",
       "The key points of the article include:\n",
       "* Nvidia's stock has risen around 15% since the last coverage before its Q1 earnings report\n",
       "* Macro and geopolitical risks could have a significant impact on Nvidia's performance\n",
       "* Rising competition may lead to lower demand for Nvidia's products in the future\n",
       "* The authors recommend a \"Sell\" position on NVDA stock due to these and other factors\n",
       "\n",
       "## Why it matters\n",
       "The article's analysis matters because it highlights the potential risks and challenges that Nvidia faces, which could impact the company's future growth and profitability. Investors who are considering buying or holding NVDA stock should be aware of these risks and consider the authors' bearish stance when making their investment decisions. Additionally, the article's focus on macro and geopolitical risks, as well as rising competition, underscores the importance of considering broader market trends and industry dynamics when evaluating individual stocks.\n",
       "\n",
       "## Link\n",
       "https://seekingalpha.com/article/4797785-nvidia-the-music-is-about-to-stop"
      ],
      "text/plain": [
       "<IPython.core.display.Markdown object>"
      ]
     },
     "metadata": {},
     "output_type": "display_data"
    }
   ],
   "source": [
    "from IPython.display import Markdown, display\n",
    "display(Markdown(message.artifact))"
   ]
  }
 ],
 "metadata": {
  "kernelspec": {
   "display_name": ".venv",
   "language": "python",
   "name": "python3"
  },
  "language_info": {
   "codemirror_mode": {
    "name": "ipython",
    "version": 3
   },
   "file_extension": ".py",
   "mimetype": "text/x-python",
   "name": "python",
   "nbconvert_exporter": "python",
   "pygments_lexer": "ipython3",
   "version": "3.10.10"
  }
 },
 "nbformat": 4,
 "nbformat_minor": 5
}
