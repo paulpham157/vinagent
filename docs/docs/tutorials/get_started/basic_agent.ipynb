{
 "cells": [
  {
   "cell_type": "markdown",
   "id": "eb496703",
   "metadata": {},
   "source": [
    "# Build a basic Chatbot\n",
    "\n",
    "[![Open in Colab](https://colab.research.google.com/assets/colab-badge.svg)](https://colab.research.google.com/github/datascienceworld-kan/vinagent-docs/blob/main/docs/tutorials/get_started/basic_agent.ipynb)\n",
    "\n",
    "This tutorial introduce you how to create a simple Agent with minimal components and how to use them. This offers a general view on agent initialization and tool integration.\n",
    "\n",
    "## Installation\n",
    "\n",
    "The python distribution version of Vinagent library is avaible on pypi.org channel and github, which facilitates the installation of the library.\n",
    "\n",
    "**Dev version on git**\n",
    "\n",
    "You can clone git repository and install by poetry command. This is suitable to obtain the latest development version."
   ]
  },
  {
   "cell_type": "code",
   "execution_count": null,
   "id": "9fde3ddb",
   "metadata": {},
   "outputs": [],
   "source": [
    "git@github.com:datascienceworld-kan/vinagent.git\n",
    "cd vinagent\n",
    "pip install -r requirements.txt\n",
    "poetry install"
   ]
  },
  {
   "cell_type": "markdown",
   "id": "e5dfc292",
   "metadata": {},
   "source": [
    "**Stable version**\n",
    "\n",
    "You can install the stable distributed versions which are tested and distributed on pypi.org channel by pip command"
   ]
  },
  {
   "cell_type": "markdown",
   "id": "b4c70e83",
   "metadata": {},
   "source": [
    "pip install vinagent"
   ]
  },
  {
   "cell_type": "markdown",
   "id": "945e3e4a",
   "metadata": {},
   "source": [
    "## Prerequisites\n",
    "To use a list of default tools inside [vinagent.tools](https://github.com/datascienceworld-kan/vinagent/tree/main/vinagent/tools) you should set environment varibles inside `.env` including `TOGETHER_API_KEY` to use llm models at togetherai site and `TAVILY_API_KEY` to use tavily websearch tool at tavily site:"
   ]
  },
  {
   "cell_type": "code",
   "execution_count": null,
   "id": "0c63c195",
   "metadata": {},
   "outputs": [],
   "source": [
    "%%writefile .env\n",
    "TOGETHER_API_KEY=\"Your together API key\"\n",
    "TAVILY_API_KEY=\"Your Tavily API key\""
   ]
  },
  {
   "cell_type": "markdown",
   "id": "738e1422",
   "metadata": {},
   "source": [
    "Let's create your acounts first and then create your relevant key for each website.\n",
    "## Setup an Agent"
   ]
  },
  {
   "cell_type": "code",
   "execution_count": null,
   "id": "3c7dad4f",
   "metadata": {},
   "outputs": [],
   "source": []
  },
  {
   "cell_type": "markdown",
   "id": "21fbdee4",
   "metadata": {},
   "source": [
    "`vinagent` is a flexible library for creating intelligent agents. You can configure your agent with tools, each encapsulated in a Python module under `vinagent.tools`. This provides a workspace of tools that agents can use to interact with and operate in the realistic world. Each tool is a Python file with full documentation and it can be independently ran. For example, the [vinagent.tools.websearch_tools](https://github.com/datascienceworld-kan/vinagent/blob/main/vinagent/tools/websearch_tools.py) module contains code for interacting with a search API."
   ]
  },
  {
   "cell_type": "code",
   "execution_count": null,
   "id": "b35bcd9d",
   "metadata": {},
   "outputs": [],
   "source": [
    "from langchain_together import ChatTogether \n",
    "from vinagent.agent.agent import Agent\n",
    "from dotenv import load_dotenv\n",
    "load_dotenv()\n",
    "\n",
    "llm = ChatTogether(\n",
    "    model=\"meta-llama/Llama-3.3-70B-Instruct-Turbo-Free\"\n",
    ")\n",
    "\n",
    "# Step 1: Create Agent with tools\n",
    "agent = Agent(\n",
    "    description=\"You are a Financial Analyst\",\n",
    "    llm = llm,\n",
    "    skills = [\n",
    "        \"Deeply analyzing financial markets\", \n",
    "        \"Searching information about stock price\",\n",
    "        \"Visualization about stock price\"]\n",
    ")\n",
    "\n",
    "# Step 2: invoke the agent\n",
    "message = agent.invoke(\"Who you are?\")\n",
    "print(message)"
   ]
  },
  {
   "cell_type": "markdown",
   "id": "15abae61",
   "metadata": {},
   "source": [
    "If the answer is a normal message without using any tools, it will be an AIMessage. By contrast, it will have ToolMessage type. For examples:\n",
    "\n",
    "```\n",
    "AIMessage(content='I am a Financial Analyst.', additional_kwargs={'refusal': None}, response_metadata={'token_usage': {'completion_tokens': 7, 'prompt_tokens': 308, 'total_tokens': 315, 'completion_tokens_details': None, 'prompt_tokens_details': None, 'cached_tokens': 0}, 'model_name': 'meta-llama/Llama-3.3-70B-Instruct-Turbo-Free', 'system_fingerprint': None, 'finish_reason': 'stop', 'logprobs': None}, id='run-070f7431-7176-42a8-ab47-ed83657c9463-0', usage_metadata={'input_tokens': 308, 'output_tokens': 7, 'total_tokens': 315, 'input_token_details': {}, 'output_token_details': {}})\n",
    "```"
   ]
  },
  {
   "cell_type": "code",
   "execution_count": null,
   "id": "7628a020",
   "metadata": {
    "vscode": {
     "languageId": "markdown"
    }
   },
   "outputs": [],
   "source": [
    "message.content"
   ]
  },
  {
   "cell_type": "markdown",
   "id": "ad4ec563",
   "metadata": {},
   "source": [
    "```I am a Financial Analyst.```\n"
   ]
  }
 ],
 "metadata": {
  "language_info": {
   "name": "python"
  }
 },
 "nbformat": 4,
 "nbformat_minor": 5
}
