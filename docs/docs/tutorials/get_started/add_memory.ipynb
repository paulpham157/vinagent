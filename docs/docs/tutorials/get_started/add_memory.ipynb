{
 "cells": [
  {
   "cell_type": "markdown",
   "id": "11d0b567",
   "metadata": {},
   "source": [
    "# Agent Memory\n",
    "\n",
    "[![Open in Colab](https://colab.research.google.com/assets/colab-badge.svg)](https://colab.research.google.com/github/datascienceworld-kan/vinagent-docs/blob/main/docs/tutorials/get_started/agent_memory.ipynb)"
   ]
  },
  {
   "cell_type": "markdown",
   "id": "40b32896",
   "metadata": {},
   "source": [
    "Vinagent features a Graphical Memory system that transforms messages into a structured knowledge graph composed of nodes, relationships, and edges. This memory can be organized into short-term and long-term components, allowing the Agent to retain and recall learned information effectively.\n",
    "\n",
    "Compared to traditional Conversational Memory, Graphical Memory offers distinct advantages: it condenses essential information into a graph format, reducing hallucinations by filtering out redundant or irrelevant details. Additionally, because it operates with a shorter context length, it significantly lowers computational costs.\n",
    "\n",
    "This graph-based approach mirrors how humans conceptualize and retain knowledge, making it especially powerful for capturing the core meaning of complex conversations."
   ]
  },
  {
   "cell_type": "markdown",
   "id": "90bc5add",
   "metadata": {},
   "source": [
    "\n",
    "## Setup\n",
    "\n",
    "Install `vinagent` package"
   ]
  },
  {
   "cell_type": "code",
   "execution_count": 2,
   "id": "c0ffd01a",
   "metadata": {},
   "outputs": [
    {
     "name": "stdout",
     "output_type": "stream",
     "text": [
      "Collecting vinagent\n",
      "  Using cached vinagent-0.0.4.post2-py3-none-any.whl (103 kB)\n",
      "Requirement already satisfied: langchain-together==0.3.0 in /Users/phamdinhkhanh/Documents/Courses/Manus/vinagent/.venv/lib/python3.10/site-packages (from vinagent) (0.3.0)\n",
      "Requirement already satisfied: mcp==1.9.0 in /Users/phamdinhkhanh/Documents/Courses/Manus/vinagent/.venv/lib/python3.10/site-packages (from vinagent) (1.9.0)\n",
      "Requirement already satisfied: pandas==2.2.3 in /Users/phamdinhkhanh/Documents/Courses/Manus/vinagent/.venv/lib/python3.10/site-packages (from vinagent) (2.2.3)\n",
      "Requirement already satisfied: python-dotenv==1.0.0 in /Users/phamdinhkhanh/Documents/Courses/Manus/vinagent/.venv/lib/python3.10/site-packages (from vinagent) (1.0.0)\n",
      "Requirement already satisfied: yfinance==0.2.54 in /Users/phamdinhkhanh/Documents/Courses/Manus/vinagent/.venv/lib/python3.10/site-packages (from vinagent) (0.2.54)\n",
      "Requirement already satisfied: langgraph==0.4.7 in /Users/phamdinhkhanh/Documents/Courses/Manus/vinagent/.venv/lib/python3.10/site-packages (from vinagent) (0.4.7)\n",
      "Requirement already satisfied: matplotlib==3.7.1 in /Users/phamdinhkhanh/Documents/Courses/Manus/vinagent/.venv/lib/python3.10/site-packages (from vinagent) (3.7.1)\n",
      "Requirement already satisfied: langchain-core==0.3.41 in /Users/phamdinhkhanh/Documents/Courses/Manus/vinagent/.venv/lib/python3.10/site-packages (from vinagent) (0.3.41)\n",
      "Requirement already satisfied: langchain-openai==0.3.7 in /Users/phamdinhkhanh/Documents/Courses/Manus/vinagent/.venv/lib/python3.10/site-packages (from vinagent) (0.3.7)\n",
      "Requirement already satisfied: aucodb[graph]==0.1.7 in /Users/phamdinhkhanh/Documents/Courses/Manus/vinagent/.venv/lib/python3.10/site-packages (from vinagent) (0.1.7)\n",
      "Requirement already satisfied: plotly==5.22.0 in /Users/phamdinhkhanh/Documents/Courses/Manus/vinagent/.venv/lib/python3.10/site-packages (from vinagent) (5.22.0)\n",
      "Requirement already satisfied: googlenewsdecoder==0.1.7 in /Users/phamdinhkhanh/Documents/Courses/Manus/vinagent/.venv/lib/python3.10/site-packages (from vinagent) (0.1.7)\n",
      "Requirement already satisfied: mlflow==3.1.0 in /Users/phamdinhkhanh/Documents/Courses/Manus/vinagent/.venv/lib/python3.10/site-packages (from vinagent) (3.1.0)\n",
      "Requirement already satisfied: mlflow-skinny==3.1.0 in /Users/phamdinhkhanh/Documents/Courses/Manus/vinagent/.venv/lib/python3.10/site-packages (from vinagent) (3.1.0)\n",
      "Requirement already satisfied: uvicorn>=0.22.0 in /Users/phamdinhkhanh/Documents/Courses/Manus/vinagent/.venv/lib/python3.10/site-packages (from aucodb[graph]==0.1.7->vinagent) (0.34.2)\n",
      "Requirement already satisfied: fastapi<0.116.0,>=0.115.0 in /Users/phamdinhkhanh/Documents/Courses/Manus/vinagent/.venv/lib/python3.10/site-packages (from aucodb[graph]==0.1.7->vinagent) (0.115.12)\n",
      "Requirement already satisfied: ipykernel==6.29.5 in /Users/phamdinhkhanh/Documents/Courses/Manus/vinagent/.venv/lib/python3.10/site-packages (from aucodb[graph]==0.1.7->vinagent) (6.29.5)\n",
      "Requirement already satisfied: requests==2.32.3 in /Users/phamdinhkhanh/Documents/Courses/Manus/vinagent/.venv/lib/python3.10/site-packages (from aucodb[graph]==0.1.7->vinagent) (2.32.3)\n",
      "Requirement already satisfied: pydantic<3.0,>=2.0 in /Users/phamdinhkhanh/Documents/Courses/Manus/vinagent/.venv/lib/python3.10/site-packages (from aucodb[graph]==0.1.7->vinagent) (2.11.4)\n",
      "Requirement already satisfied: neo4j==5.28.1 in /Users/phamdinhkhanh/Documents/Courses/Manus/vinagent/.venv/lib/python3.10/site-packages (from aucodb[graph]==0.1.7->vinagent) (5.28.1)\n",
      "Requirement already satisfied: pyvis==0.3.2 in /Users/phamdinhkhanh/Documents/Courses/Manus/vinagent/.venv/lib/python3.10/site-packages (from aucodb[graph]==0.1.7->vinagent) (0.3.2)\n",
      "Requirement already satisfied: selectolax>=0.3.27 in /Users/phamdinhkhanh/Documents/Courses/Manus/vinagent/.venv/lib/python3.10/site-packages (from googlenewsdecoder==0.1.7->vinagent) (0.3.29)\n",
      "Requirement already satisfied: pysocks>=1.7.1 in /Users/phamdinhkhanh/Documents/Courses/Manus/vinagent/.venv/lib/python3.10/site-packages (from googlenewsdecoder==0.1.7->vinagent) (1.7.1)\n",
      "Requirement already satisfied: langsmith<0.4,>=0.1.125 in /Users/phamdinhkhanh/Documents/Courses/Manus/vinagent/.venv/lib/python3.10/site-packages (from langchain-core==0.3.41->vinagent) (0.3.45)\n",
      "Requirement already satisfied: PyYAML>=5.3 in /Users/phamdinhkhanh/Documents/Courses/Manus/vinagent/.venv/lib/python3.10/site-packages (from langchain-core==0.3.41->vinagent) (6.0.2)\n",
      "Requirement already satisfied: packaging<25,>=23.2 in /Users/phamdinhkhanh/Documents/Courses/Manus/vinagent/.venv/lib/python3.10/site-packages (from langchain-core==0.3.41->vinagent) (24.2)\n",
      "Requirement already satisfied: jsonpatch<2.0,>=1.33 in /Users/phamdinhkhanh/Documents/Courses/Manus/vinagent/.venv/lib/python3.10/site-packages (from langchain-core==0.3.41->vinagent) (1.33)\n",
      "Requirement already satisfied: tenacity!=8.4.0,<10.0.0,>=8.1.0 in /Users/phamdinhkhanh/Documents/Courses/Manus/vinagent/.venv/lib/python3.10/site-packages (from langchain-core==0.3.41->vinagent) (9.1.2)\n",
      "Requirement already satisfied: typing-extensions>=4.7 in /Users/phamdinhkhanh/Documents/Courses/Manus/vinagent/.venv/lib/python3.10/site-packages (from langchain-core==0.3.41->vinagent) (4.13.2)\n",
      "Requirement already satisfied: openai<2.0.0,>=1.58.1 in /Users/phamdinhkhanh/Documents/Courses/Manus/vinagent/.venv/lib/python3.10/site-packages (from langchain-openai==0.3.7->vinagent) (1.76.2)\n",
      "Requirement already satisfied: tiktoken<1,>=0.7 in /Users/phamdinhkhanh/Documents/Courses/Manus/vinagent/.venv/lib/python3.10/site-packages (from langchain-openai==0.3.7->vinagent) (0.9.0)\n",
      "Requirement already satisfied: aiohttp<4.0.0,>=3.9.1 in /Users/phamdinhkhanh/Documents/Courses/Manus/vinagent/.venv/lib/python3.10/site-packages (from langchain-together==0.3.0->vinagent) (3.10.11)\n",
      "Requirement already satisfied: langgraph-prebuilt>=0.2.0 in /Users/phamdinhkhanh/Documents/Courses/Manus/vinagent/.venv/lib/python3.10/site-packages (from langgraph==0.4.7->vinagent) (0.2.2)\n",
      "Requirement already satisfied: langgraph-checkpoint>=2.0.26 in /Users/phamdinhkhanh/Documents/Courses/Manus/vinagent/.venv/lib/python3.10/site-packages (from langgraph==0.4.7->vinagent) (2.1.0)\n",
      "Requirement already satisfied: xxhash>=3.5.0 in /Users/phamdinhkhanh/Documents/Courses/Manus/vinagent/.venv/lib/python3.10/site-packages (from langgraph==0.4.7->vinagent) (3.5.0)\n",
      "Requirement already satisfied: langgraph-sdk>=0.1.42 in /Users/phamdinhkhanh/Documents/Courses/Manus/vinagent/.venv/lib/python3.10/site-packages (from langgraph==0.4.7->vinagent) (0.1.70)\n",
      "Requirement already satisfied: cycler>=0.10 in /Users/phamdinhkhanh/Documents/Courses/Manus/vinagent/.venv/lib/python3.10/site-packages (from matplotlib==3.7.1->vinagent) (0.12.1)\n",
      "Requirement already satisfied: numpy>=1.20 in /Users/phamdinhkhanh/Documents/Courses/Manus/vinagent/.venv/lib/python3.10/site-packages (from matplotlib==3.7.1->vinagent) (1.26.4)\n",
      "Requirement already satisfied: python-dateutil>=2.7 in /Users/phamdinhkhanh/Documents/Courses/Manus/vinagent/.venv/lib/python3.10/site-packages (from matplotlib==3.7.1->vinagent) (2.9.0.post0)\n",
      "Requirement already satisfied: pyparsing>=2.3.1 in /Users/phamdinhkhanh/Documents/Courses/Manus/vinagent/.venv/lib/python3.10/site-packages (from matplotlib==3.7.1->vinagent) (3.2.3)\n",
      "Requirement already satisfied: contourpy>=1.0.1 in /Users/phamdinhkhanh/Documents/Courses/Manus/vinagent/.venv/lib/python3.10/site-packages (from matplotlib==3.7.1->vinagent) (1.3.2)\n",
      "Requirement already satisfied: fonttools>=4.22.0 in /Users/phamdinhkhanh/Documents/Courses/Manus/vinagent/.venv/lib/python3.10/site-packages (from matplotlib==3.7.1->vinagent) (4.57.0)\n",
      "Requirement already satisfied: kiwisolver>=1.0.1 in /Users/phamdinhkhanh/Documents/Courses/Manus/vinagent/.venv/lib/python3.10/site-packages (from matplotlib==3.7.1->vinagent) (1.4.8)\n",
      "Requirement already satisfied: pillow>=6.2.0 in /Users/phamdinhkhanh/Documents/Courses/Manus/vinagent/.venv/lib/python3.10/site-packages (from matplotlib==3.7.1->vinagent) (11.2.1)\n",
      "Requirement already satisfied: anyio>=4.5 in /Users/phamdinhkhanh/Documents/Courses/Manus/vinagent/.venv/lib/python3.10/site-packages (from mcp==1.9.0->vinagent) (4.9.0)\n",
      "Requirement already satisfied: httpx>=0.27 in /Users/phamdinhkhanh/Documents/Courses/Manus/vinagent/.venv/lib/python3.10/site-packages (from mcp==1.9.0->vinagent) (0.28.1)\n",
      "Requirement already satisfied: python-multipart>=0.0.9 in /Users/phamdinhkhanh/Documents/Courses/Manus/vinagent/.venv/lib/python3.10/site-packages (from mcp==1.9.0->vinagent) (0.0.20)\n",
      "Requirement already satisfied: pydantic-settings>=2.5.2 in /Users/phamdinhkhanh/Documents/Courses/Manus/vinagent/.venv/lib/python3.10/site-packages (from mcp==1.9.0->vinagent) (2.10.0)\n",
      "Requirement already satisfied: httpx-sse>=0.4 in /Users/phamdinhkhanh/Documents/Courses/Manus/vinagent/.venv/lib/python3.10/site-packages (from mcp==1.9.0->vinagent) (0.4.0)\n",
      "Requirement already satisfied: sse-starlette>=1.6.1 in /Users/phamdinhkhanh/Documents/Courses/Manus/vinagent/.venv/lib/python3.10/site-packages (from mcp==1.9.0->vinagent) (2.3.6)\n",
      "Requirement already satisfied: starlette>=0.27 in /Users/phamdinhkhanh/Documents/Courses/Manus/vinagent/.venv/lib/python3.10/site-packages (from mcp==1.9.0->vinagent) (0.46.2)\n",
      "Requirement already satisfied: pyarrow<21,>=4.0.0 in /Users/phamdinhkhanh/Documents/Courses/Manus/vinagent/.venv/lib/python3.10/site-packages (from mlflow==3.1.0->vinagent) (20.0.0)\n",
      "Requirement already satisfied: docker<8,>=4.0.0 in /Users/phamdinhkhanh/Documents/Courses/Manus/vinagent/.venv/lib/python3.10/site-packages (from mlflow==3.1.0->vinagent) (7.1.0)\n",
      "Requirement already satisfied: Flask<4 in /Users/phamdinhkhanh/Documents/Courses/Manus/vinagent/.venv/lib/python3.10/site-packages (from mlflow==3.1.0->vinagent) (3.1.1)\n",
      "Requirement already satisfied: scikit-learn<2 in /Users/phamdinhkhanh/Documents/Courses/Manus/vinagent/.venv/lib/python3.10/site-packages (from mlflow==3.1.0->vinagent) (1.7.0)\n",
      "Requirement already satisfied: gunicorn<24 in /Users/phamdinhkhanh/Documents/Courses/Manus/vinagent/.venv/lib/python3.10/site-packages (from mlflow==3.1.0->vinagent) (23.0.0)\n",
      "Requirement already satisfied: scipy<2 in /Users/phamdinhkhanh/Documents/Courses/Manus/vinagent/.venv/lib/python3.10/site-packages (from mlflow==3.1.0->vinagent) (1.15.3)\n",
      "Requirement already satisfied: graphene<4 in /Users/phamdinhkhanh/Documents/Courses/Manus/vinagent/.venv/lib/python3.10/site-packages (from mlflow==3.1.0->vinagent) (3.4.3)\n",
      "Requirement already satisfied: sqlalchemy<3,>=1.4.0 in /Users/phamdinhkhanh/Documents/Courses/Manus/vinagent/.venv/lib/python3.10/site-packages (from mlflow==3.1.0->vinagent) (2.0.41)\n",
      "Requirement already satisfied: alembic!=1.10.0,<2 in /Users/phamdinhkhanh/Documents/Courses/Manus/vinagent/.venv/lib/python3.10/site-packages (from mlflow==3.1.0->vinagent) (1.16.2)\n",
      "Requirement already satisfied: click<9,>=7.0 in /Users/phamdinhkhanh/Documents/Courses/Manus/vinagent/.venv/lib/python3.10/site-packages (from mlflow-skinny==3.1.0->vinagent) (8.1.8)\n",
      "Requirement already satisfied: cachetools<7,>=5.0.0 in /Users/phamdinhkhanh/Documents/Courses/Manus/vinagent/.venv/lib/python3.10/site-packages (from mlflow-skinny==3.1.0->vinagent) (5.5.2)\n",
      "Requirement already satisfied: opentelemetry-sdk<3,>=1.9.0 in /Users/phamdinhkhanh/Documents/Courses/Manus/vinagent/.venv/lib/python3.10/site-packages (from mlflow-skinny==3.1.0->vinagent) (1.35.0)\n",
      "Requirement already satisfied: protobuf<7,>=3.12.0 in /Users/phamdinhkhanh/Documents/Courses/Manus/vinagent/.venv/lib/python3.10/site-packages (from mlflow-skinny==3.1.0->vinagent) (5.29.5)\n",
      "Requirement already satisfied: opentelemetry-api<3,>=1.9.0 in /Users/phamdinhkhanh/Documents/Courses/Manus/vinagent/.venv/lib/python3.10/site-packages (from mlflow-skinny==3.1.0->vinagent) (1.35.0)\n",
      "Requirement already satisfied: sqlparse<1,>=0.4.0 in /Users/phamdinhkhanh/Documents/Courses/Manus/vinagent/.venv/lib/python3.10/site-packages (from mlflow-skinny==3.1.0->vinagent) (0.5.3)\n",
      "Requirement already satisfied: gitpython<4,>=3.1.9 in /Users/phamdinhkhanh/Documents/Courses/Manus/vinagent/.venv/lib/python3.10/site-packages (from mlflow-skinny==3.1.0->vinagent) (3.1.44)\n",
      "Requirement already satisfied: databricks-sdk<1,>=0.20.0 in /Users/phamdinhkhanh/Documents/Courses/Manus/vinagent/.venv/lib/python3.10/site-packages (from mlflow-skinny==3.1.0->vinagent) (0.57.0)\n",
      "Requirement already satisfied: importlib_metadata!=4.7.0,<9,>=3.7.0 in /Users/phamdinhkhanh/Documents/Courses/Manus/vinagent/.venv/lib/python3.10/site-packages (from mlflow-skinny==3.1.0->vinagent) (8.7.0)\n",
      "Requirement already satisfied: cloudpickle<4 in /Users/phamdinhkhanh/Documents/Courses/Manus/vinagent/.venv/lib/python3.10/site-packages (from mlflow-skinny==3.1.0->vinagent) (3.1.1)\n",
      "Requirement already satisfied: pytz>=2020.1 in /Users/phamdinhkhanh/Documents/Courses/Manus/vinagent/.venv/lib/python3.10/site-packages (from pandas==2.2.3->vinagent) (2025.2)\n",
      "Requirement already satisfied: tzdata>=2022.7 in /Users/phamdinhkhanh/Documents/Courses/Manus/vinagent/.venv/lib/python3.10/site-packages (from pandas==2.2.3->vinagent) (2025.2)\n",
      "Requirement already satisfied: peewee>=3.16.2 in /Users/phamdinhkhanh/Documents/Courses/Manus/vinagent/.venv/lib/python3.10/site-packages (from yfinance==0.2.54->vinagent) (3.18.1)\n",
      "Requirement already satisfied: beautifulsoup4>=4.11.1 in /Users/phamdinhkhanh/Documents/Courses/Manus/vinagent/.venv/lib/python3.10/site-packages (from yfinance==0.2.54->vinagent) (4.13.4)\n",
      "Requirement already satisfied: frozendict>=2.3.4 in /Users/phamdinhkhanh/Documents/Courses/Manus/vinagent/.venv/lib/python3.10/site-packages (from yfinance==0.2.54->vinagent) (2.4.6)\n",
      "Requirement already satisfied: multitasking>=0.0.7 in /Users/phamdinhkhanh/Documents/Courses/Manus/vinagent/.venv/lib/python3.10/site-packages (from yfinance==0.2.54->vinagent) (0.0.11)\n",
      "Requirement already satisfied: platformdirs>=2.0.0 in /Users/phamdinhkhanh/Documents/Courses/Manus/vinagent/.venv/lib/python3.10/site-packages (from yfinance==0.2.54->vinagent) (4.3.7)\n",
      "Requirement already satisfied: jupyter-client>=6.1.12 in /Users/phamdinhkhanh/Documents/Courses/Manus/vinagent/.venv/lib/python3.10/site-packages (from ipykernel==6.29.5->aucodb[graph]==0.1.7->vinagent) (8.6.3)\n",
      "Requirement already satisfied: debugpy>=1.6.5 in /Users/phamdinhkhanh/Documents/Courses/Manus/vinagent/.venv/lib/python3.10/site-packages (from ipykernel==6.29.5->aucodb[graph]==0.1.7->vinagent) (1.8.14)\n",
      "Requirement already satisfied: jupyter-core!=5.0.*,>=4.12 in /Users/phamdinhkhanh/Documents/Courses/Manus/vinagent/.venv/lib/python3.10/site-packages (from ipykernel==6.29.5->aucodb[graph]==0.1.7->vinagent) (5.7.2)\n",
      "Requirement already satisfied: pyzmq>=24 in /Users/phamdinhkhanh/Documents/Courses/Manus/vinagent/.venv/lib/python3.10/site-packages (from ipykernel==6.29.5->aucodb[graph]==0.1.7->vinagent) (26.4.0)\n",
      "Requirement already satisfied: appnope in /Users/phamdinhkhanh/Documents/Courses/Manus/vinagent/.venv/lib/python3.10/site-packages (from ipykernel==6.29.5->aucodb[graph]==0.1.7->vinagent) (0.1.4)\n",
      "Requirement already satisfied: comm>=0.1.1 in /Users/phamdinhkhanh/Documents/Courses/Manus/vinagent/.venv/lib/python3.10/site-packages (from ipykernel==6.29.5->aucodb[graph]==0.1.7->vinagent) (0.2.2)\n",
      "Requirement already satisfied: ipython>=7.23.1 in /Users/phamdinhkhanh/Documents/Courses/Manus/vinagent/.venv/lib/python3.10/site-packages (from ipykernel==6.29.5->aucodb[graph]==0.1.7->vinagent) (8.36.0)\n",
      "Requirement already satisfied: matplotlib-inline>=0.1 in /Users/phamdinhkhanh/Documents/Courses/Manus/vinagent/.venv/lib/python3.10/site-packages (from ipykernel==6.29.5->aucodb[graph]==0.1.7->vinagent) (0.1.7)\n",
      "Requirement already satisfied: traitlets>=5.4.0 in /Users/phamdinhkhanh/Documents/Courses/Manus/vinagent/.venv/lib/python3.10/site-packages (from ipykernel==6.29.5->aucodb[graph]==0.1.7->vinagent) (5.14.3)\n",
      "Requirement already satisfied: tornado>=6.1 in /Users/phamdinhkhanh/Documents/Courses/Manus/vinagent/.venv/lib/python3.10/site-packages (from ipykernel==6.29.5->aucodb[graph]==0.1.7->vinagent) (6.4.2)\n",
      "Requirement already satisfied: psutil in /Users/phamdinhkhanh/Documents/Courses/Manus/vinagent/.venv/lib/python3.10/site-packages (from ipykernel==6.29.5->aucodb[graph]==0.1.7->vinagent) (7.0.0)\n",
      "Requirement already satisfied: nest-asyncio in /Users/phamdinhkhanh/Documents/Courses/Manus/vinagent/.venv/lib/python3.10/site-packages (from ipykernel==6.29.5->aucodb[graph]==0.1.7->vinagent) (1.6.0)\n",
      "Requirement already satisfied: jsonpickle>=1.4.1 in /Users/phamdinhkhanh/Documents/Courses/Manus/vinagent/.venv/lib/python3.10/site-packages (from pyvis==0.3.2->aucodb[graph]==0.1.7->vinagent) (4.0.5)\n",
      "Requirement already satisfied: networkx>=1.11 in /Users/phamdinhkhanh/Documents/Courses/Manus/vinagent/.venv/lib/python3.10/site-packages (from pyvis==0.3.2->aucodb[graph]==0.1.7->vinagent) (3.4.2)\n",
      "Requirement already satisfied: jinja2>=2.9.6 in /Users/phamdinhkhanh/Documents/Courses/Manus/vinagent/.venv/lib/python3.10/site-packages (from pyvis==0.3.2->aucodb[graph]==0.1.7->vinagent) (3.1.6)\n",
      "Requirement already satisfied: urllib3<3,>=1.21.1 in /Users/phamdinhkhanh/Documents/Courses/Manus/vinagent/.venv/lib/python3.10/site-packages (from requests==2.32.3->aucodb[graph]==0.1.7->vinagent) (2.4.0)\n",
      "Requirement already satisfied: certifi>=2017.4.17 in /Users/phamdinhkhanh/Documents/Courses/Manus/vinagent/.venv/lib/python3.10/site-packages (from requests==2.32.3->aucodb[graph]==0.1.7->vinagent) (2025.4.26)\n",
      "Requirement already satisfied: idna<4,>=2.5 in /Users/phamdinhkhanh/Documents/Courses/Manus/vinagent/.venv/lib/python3.10/site-packages (from requests==2.32.3->aucodb[graph]==0.1.7->vinagent) (3.10)\n",
      "Requirement already satisfied: charset-normalizer<4,>=2 in /Users/phamdinhkhanh/Documents/Courses/Manus/vinagent/.venv/lib/python3.10/site-packages (from requests==2.32.3->aucodb[graph]==0.1.7->vinagent) (3.4.1)\n",
      "Requirement already satisfied: aiosignal>=1.1.2 in /Users/phamdinhkhanh/Documents/Courses/Manus/vinagent/.venv/lib/python3.10/site-packages (from aiohttp<4.0.0,>=3.9.1->langchain-together==0.3.0->vinagent) (1.3.2)\n",
      "Requirement already satisfied: aiohappyeyeballs>=2.3.0 in /Users/phamdinhkhanh/Documents/Courses/Manus/vinagent/.venv/lib/python3.10/site-packages (from aiohttp<4.0.0,>=3.9.1->langchain-together==0.3.0->vinagent) (2.6.1)\n",
      "Requirement already satisfied: multidict<7.0,>=4.5 in /Users/phamdinhkhanh/Documents/Courses/Manus/vinagent/.venv/lib/python3.10/site-packages (from aiohttp<4.0.0,>=3.9.1->langchain-together==0.3.0->vinagent) (6.4.3)\n",
      "Requirement already satisfied: async-timeout<6.0,>=4.0 in /Users/phamdinhkhanh/Documents/Courses/Manus/vinagent/.venv/lib/python3.10/site-packages (from aiohttp<4.0.0,>=3.9.1->langchain-together==0.3.0->vinagent) (4.0.3)\n",
      "Requirement already satisfied: attrs>=17.3.0 in /Users/phamdinhkhanh/Documents/Courses/Manus/vinagent/.venv/lib/python3.10/site-packages (from aiohttp<4.0.0,>=3.9.1->langchain-together==0.3.0->vinagent) (25.3.0)\n",
      "Requirement already satisfied: yarl<2.0,>=1.12.0 in /Users/phamdinhkhanh/Documents/Courses/Manus/vinagent/.venv/lib/python3.10/site-packages (from aiohttp<4.0.0,>=3.9.1->langchain-together==0.3.0->vinagent) (1.20.0)\n",
      "Requirement already satisfied: frozenlist>=1.1.1 in /Users/phamdinhkhanh/Documents/Courses/Manus/vinagent/.venv/lib/python3.10/site-packages (from aiohttp<4.0.0,>=3.9.1->langchain-together==0.3.0->vinagent) (1.6.0)\n",
      "Requirement already satisfied: tomli in /Users/phamdinhkhanh/Documents/Courses/Manus/vinagent/.venv/lib/python3.10/site-packages (from alembic!=1.10.0,<2->mlflow==3.1.0->vinagent) (2.2.1)\n",
      "Requirement already satisfied: Mako in /Users/phamdinhkhanh/Documents/Courses/Manus/vinagent/.venv/lib/python3.10/site-packages (from alembic!=1.10.0,<2->mlflow==3.1.0->vinagent) (1.3.10)\n",
      "Requirement already satisfied: sniffio>=1.1 in /Users/phamdinhkhanh/Documents/Courses/Manus/vinagent/.venv/lib/python3.10/site-packages (from anyio>=4.5->mcp==1.9.0->vinagent) (1.3.1)\n",
      "Requirement already satisfied: exceptiongroup>=1.0.2 in /Users/phamdinhkhanh/Documents/Courses/Manus/vinagent/.venv/lib/python3.10/site-packages (from anyio>=4.5->mcp==1.9.0->vinagent) (1.2.2)\n",
      "Requirement already satisfied: soupsieve>1.2 in /Users/phamdinhkhanh/Documents/Courses/Manus/vinagent/.venv/lib/python3.10/site-packages (from beautifulsoup4>=4.11.1->yfinance==0.2.54->vinagent) (2.7)\n",
      "Requirement already satisfied: google-auth~=2.0 in /Users/phamdinhkhanh/Documents/Courses/Manus/vinagent/.venv/lib/python3.10/site-packages (from databricks-sdk<1,>=0.20.0->mlflow-skinny==3.1.0->vinagent) (2.40.3)\n",
      "Requirement already satisfied: itsdangerous>=2.2.0 in /Users/phamdinhkhanh/Documents/Courses/Manus/vinagent/.venv/lib/python3.10/site-packages (from Flask<4->mlflow==3.1.0->vinagent) (2.2.0)\n",
      "Requirement already satisfied: markupsafe>=2.1.1 in /Users/phamdinhkhanh/Documents/Courses/Manus/vinagent/.venv/lib/python3.10/site-packages (from Flask<4->mlflow==3.1.0->vinagent) (3.0.2)\n",
      "Requirement already satisfied: werkzeug>=3.1.0 in /Users/phamdinhkhanh/Documents/Courses/Manus/vinagent/.venv/lib/python3.10/site-packages (from Flask<4->mlflow==3.1.0->vinagent) (3.1.3)\n",
      "Requirement already satisfied: blinker>=1.9.0 in /Users/phamdinhkhanh/Documents/Courses/Manus/vinagent/.venv/lib/python3.10/site-packages (from Flask<4->mlflow==3.1.0->vinagent) (1.9.0)\n",
      "Requirement already satisfied: gitdb<5,>=4.0.1 in /Users/phamdinhkhanh/Documents/Courses/Manus/vinagent/.venv/lib/python3.10/site-packages (from gitpython<4,>=3.1.9->mlflow-skinny==3.1.0->vinagent) (4.0.12)\n",
      "Requirement already satisfied: graphql-core<3.3,>=3.1 in /Users/phamdinhkhanh/Documents/Courses/Manus/vinagent/.venv/lib/python3.10/site-packages (from graphene<4->mlflow==3.1.0->vinagent) (3.2.6)\n",
      "Requirement already satisfied: graphql-relay<3.3,>=3.1 in /Users/phamdinhkhanh/Documents/Courses/Manus/vinagent/.venv/lib/python3.10/site-packages (from graphene<4->mlflow==3.1.0->vinagent) (3.2.0)\n",
      "Requirement already satisfied: httpcore==1.* in /Users/phamdinhkhanh/Documents/Courses/Manus/vinagent/.venv/lib/python3.10/site-packages (from httpx>=0.27->mcp==1.9.0->vinagent) (1.0.9)\n",
      "Requirement already satisfied: h11>=0.16 in /Users/phamdinhkhanh/Documents/Courses/Manus/vinagent/.venv/lib/python3.10/site-packages (from httpcore==1.*->httpx>=0.27->mcp==1.9.0->vinagent) (0.16.0)\n",
      "Requirement already satisfied: zipp>=3.20 in /Users/phamdinhkhanh/Documents/Courses/Manus/vinagent/.venv/lib/python3.10/site-packages (from importlib_metadata!=4.7.0,<9,>=3.7.0->mlflow-skinny==3.1.0->vinagent) (3.23.0)\n",
      "Requirement already satisfied: jsonpointer>=1.9 in /Users/phamdinhkhanh/Documents/Courses/Manus/vinagent/.venv/lib/python3.10/site-packages (from jsonpatch<2.0,>=1.33->langchain-core==0.3.41->vinagent) (3.0.0)\n",
      "Requirement already satisfied: ormsgpack>=1.10.0 in /Users/phamdinhkhanh/Documents/Courses/Manus/vinagent/.venv/lib/python3.10/site-packages (from langgraph-checkpoint>=2.0.26->langgraph==0.4.7->vinagent) (1.10.0)\n",
      "Requirement already satisfied: orjson>=3.10.1 in /Users/phamdinhkhanh/Documents/Courses/Manus/vinagent/.venv/lib/python3.10/site-packages (from langgraph-sdk>=0.1.42->langgraph==0.4.7->vinagent) (3.10.18)\n",
      "Requirement already satisfied: zstandard<0.24.0,>=0.23.0 in /Users/phamdinhkhanh/Documents/Courses/Manus/vinagent/.venv/lib/python3.10/site-packages (from langsmith<0.4,>=0.1.125->langchain-core==0.3.41->vinagent) (0.23.0)\n",
      "Requirement already satisfied: requests-toolbelt<2.0.0,>=1.0.0 in /Users/phamdinhkhanh/Documents/Courses/Manus/vinagent/.venv/lib/python3.10/site-packages (from langsmith<0.4,>=0.1.125->langchain-core==0.3.41->vinagent) (1.0.0)\n",
      "Requirement already satisfied: tqdm>4 in /Users/phamdinhkhanh/Documents/Courses/Manus/vinagent/.venv/lib/python3.10/site-packages (from openai<2.0.0,>=1.58.1->langchain-openai==0.3.7->vinagent) (4.67.1)\n",
      "Requirement already satisfied: distro<2,>=1.7.0 in /Users/phamdinhkhanh/Documents/Courses/Manus/vinagent/.venv/lib/python3.10/site-packages (from openai<2.0.0,>=1.58.1->langchain-openai==0.3.7->vinagent) (1.9.0)\n",
      "Requirement already satisfied: jiter<1,>=0.4.0 in /Users/phamdinhkhanh/Documents/Courses/Manus/vinagent/.venv/lib/python3.10/site-packages (from openai<2.0.0,>=1.58.1->langchain-openai==0.3.7->vinagent) (0.9.0)\n",
      "Requirement already satisfied: opentelemetry-semantic-conventions==0.56b0 in /Users/phamdinhkhanh/Documents/Courses/Manus/vinagent/.venv/lib/python3.10/site-packages (from opentelemetry-sdk<3,>=1.9.0->mlflow-skinny==3.1.0->vinagent) (0.56b0)\n",
      "Requirement already satisfied: typing-inspection>=0.4.0 in /Users/phamdinhkhanh/Documents/Courses/Manus/vinagent/.venv/lib/python3.10/site-packages (from pydantic<3.0,>=2.0->aucodb[graph]==0.1.7->vinagent) (0.4.0)\n",
      "Requirement already satisfied: pydantic-core==2.33.2 in /Users/phamdinhkhanh/Documents/Courses/Manus/vinagent/.venv/lib/python3.10/site-packages (from pydantic<3.0,>=2.0->aucodb[graph]==0.1.7->vinagent) (2.33.2)\n",
      "Requirement already satisfied: annotated-types>=0.6.0 in /Users/phamdinhkhanh/Documents/Courses/Manus/vinagent/.venv/lib/python3.10/site-packages (from pydantic<3.0,>=2.0->aucodb[graph]==0.1.7->vinagent) (0.7.0)\n",
      "Requirement already satisfied: six>=1.5 in /Users/phamdinhkhanh/Documents/Courses/Manus/vinagent/.venv/lib/python3.10/site-packages (from python-dateutil>=2.7->matplotlib==3.7.1->vinagent) (1.17.0)\n",
      "Requirement already satisfied: joblib>=1.2.0 in /Users/phamdinhkhanh/Documents/Courses/Manus/vinagent/.venv/lib/python3.10/site-packages (from scikit-learn<2->mlflow==3.1.0->vinagent) (1.5.1)\n",
      "Requirement already satisfied: threadpoolctl>=3.1.0 in /Users/phamdinhkhanh/Documents/Courses/Manus/vinagent/.venv/lib/python3.10/site-packages (from scikit-learn<2->mlflow==3.1.0->vinagent) (3.6.0)\n",
      "Requirement already satisfied: regex>=2022.1.18 in /Users/phamdinhkhanh/Documents/Courses/Manus/vinagent/.venv/lib/python3.10/site-packages (from tiktoken<1,>=0.7->langchain-openai==0.3.7->vinagent) (2024.11.6)\n",
      "Requirement already satisfied: smmap<6,>=3.0.1 in /Users/phamdinhkhanh/Documents/Courses/Manus/vinagent/.venv/lib/python3.10/site-packages (from gitdb<5,>=4.0.1->gitpython<4,>=3.1.9->mlflow-skinny==3.1.0->vinagent) (5.0.2)\n",
      "Requirement already satisfied: pyasn1-modules>=0.2.1 in /Users/phamdinhkhanh/Documents/Courses/Manus/vinagent/.venv/lib/python3.10/site-packages (from google-auth~=2.0->databricks-sdk<1,>=0.20.0->mlflow-skinny==3.1.0->vinagent) (0.4.2)\n",
      "Requirement already satisfied: rsa<5,>=3.1.4 in /Users/phamdinhkhanh/Documents/Courses/Manus/vinagent/.venv/lib/python3.10/site-packages (from google-auth~=2.0->databricks-sdk<1,>=0.20.0->mlflow-skinny==3.1.0->vinagent) (4.9.1)\n",
      "Requirement already satisfied: pexpect>4.3 in /Users/phamdinhkhanh/Documents/Courses/Manus/vinagent/.venv/lib/python3.10/site-packages (from ipython>=7.23.1->ipykernel==6.29.5->aucodb[graph]==0.1.7->vinagent) (4.9.0)\n",
      "Requirement already satisfied: jedi>=0.16 in /Users/phamdinhkhanh/Documents/Courses/Manus/vinagent/.venv/lib/python3.10/site-packages (from ipython>=7.23.1->ipykernel==6.29.5->aucodb[graph]==0.1.7->vinagent) (0.19.2)\n",
      "Requirement already satisfied: prompt_toolkit<3.1.0,>=3.0.41 in /Users/phamdinhkhanh/Documents/Courses/Manus/vinagent/.venv/lib/python3.10/site-packages (from ipython>=7.23.1->ipykernel==6.29.5->aucodb[graph]==0.1.7->vinagent) (3.0.51)\n",
      "Requirement already satisfied: pygments>=2.4.0 in /Users/phamdinhkhanh/Documents/Courses/Manus/vinagent/.venv/lib/python3.10/site-packages (from ipython>=7.23.1->ipykernel==6.29.5->aucodb[graph]==0.1.7->vinagent) (2.19.1)\n",
      "Requirement already satisfied: stack_data in /Users/phamdinhkhanh/Documents/Courses/Manus/vinagent/.venv/lib/python3.10/site-packages (from ipython>=7.23.1->ipykernel==6.29.5->aucodb[graph]==0.1.7->vinagent) (0.6.3)\n",
      "Requirement already satisfied: decorator in /Users/phamdinhkhanh/Documents/Courses/Manus/vinagent/.venv/lib/python3.10/site-packages (from ipython>=7.23.1->ipykernel==6.29.5->aucodb[graph]==0.1.7->vinagent) (5.2.1)\n",
      "Requirement already satisfied: propcache>=0.2.1 in /Users/phamdinhkhanh/Documents/Courses/Manus/vinagent/.venv/lib/python3.10/site-packages (from yarl<2.0,>=1.12.0->aiohttp<4.0.0,>=3.9.1->langchain-together==0.3.0->vinagent) (0.3.1)\n",
      "Requirement already satisfied: parso<0.9.0,>=0.8.4 in /Users/phamdinhkhanh/Documents/Courses/Manus/vinagent/.venv/lib/python3.10/site-packages (from jedi>=0.16->ipython>=7.23.1->ipykernel==6.29.5->aucodb[graph]==0.1.7->vinagent) (0.8.4)\n",
      "Requirement already satisfied: ptyprocess>=0.5 in /Users/phamdinhkhanh/Documents/Courses/Manus/vinagent/.venv/lib/python3.10/site-packages (from pexpect>4.3->ipython>=7.23.1->ipykernel==6.29.5->aucodb[graph]==0.1.7->vinagent) (0.7.0)\n",
      "Requirement already satisfied: wcwidth in /Users/phamdinhkhanh/Documents/Courses/Manus/vinagent/.venv/lib/python3.10/site-packages (from prompt_toolkit<3.1.0,>=3.0.41->ipython>=7.23.1->ipykernel==6.29.5->aucodb[graph]==0.1.7->vinagent) (0.2.13)\n",
      "Requirement already satisfied: pyasn1<0.7.0,>=0.6.1 in /Users/phamdinhkhanh/Documents/Courses/Manus/vinagent/.venv/lib/python3.10/site-packages (from pyasn1-modules>=0.2.1->google-auth~=2.0->databricks-sdk<1,>=0.20.0->mlflow-skinny==3.1.0->vinagent) (0.6.1)\n",
      "Requirement already satisfied: pure-eval in /Users/phamdinhkhanh/Documents/Courses/Manus/vinagent/.venv/lib/python3.10/site-packages (from stack_data->ipython>=7.23.1->ipykernel==6.29.5->aucodb[graph]==0.1.7->vinagent) (0.2.3)\n",
      "Requirement already satisfied: executing>=1.2.0 in /Users/phamdinhkhanh/Documents/Courses/Manus/vinagent/.venv/lib/python3.10/site-packages (from stack_data->ipython>=7.23.1->ipykernel==6.29.5->aucodb[graph]==0.1.7->vinagent) (2.2.0)\n",
      "Requirement already satisfied: asttokens>=2.1.0 in /Users/phamdinhkhanh/Documents/Courses/Manus/vinagent/.venv/lib/python3.10/site-packages (from stack_data->ipython>=7.23.1->ipykernel==6.29.5->aucodb[graph]==0.1.7->vinagent) (3.0.0)\n",
      "Installing collected packages: vinagent\n",
      "Successfully installed vinagent-0.0.4.post2\n",
      "\n",
      "\u001b[1m[\u001b[0m\u001b[34;49mnotice\u001b[0m\u001b[1;39;49m]\u001b[0m\u001b[39;49m A new release of pip available: \u001b[0m\u001b[31;49m22.3.1\u001b[0m\u001b[39;49m -> \u001b[0m\u001b[32;49m25.1.1\u001b[0m\n",
      "\u001b[1m[\u001b[0m\u001b[34;49mnotice\u001b[0m\u001b[1;39;49m]\u001b[0m\u001b[39;49m To update, run: \u001b[0m\u001b[32;49mpip3.10 install --upgrade pip\u001b[0m\n",
      "Note: you may need to restart the kernel to use updated packages.\n"
     ]
    }
   ],
   "source": [
    "%pip install vinagent"
   ]
  },
  {
   "cell_type": "markdown",
   "id": "8d347b2d",
   "metadata": {},
   "source": [
    "Write environment variable"
   ]
  },
  {
   "cell_type": "code",
   "execution_count": null,
   "id": "67932703",
   "metadata": {},
   "outputs": [],
   "source": [
    "%%writefile .env\n",
    "TOGETHER_API_KEY=\"Your together API key\"\n",
    "TAVILY_API_KEY=\"Your Tavily API key\""
   ]
  },
  {
   "cell_type": "markdown",
   "id": "f7bad119",
   "metadata": {},
   "source": [
    "## Initialize Memory\n",
    "\n",
    "Vinagent is outstanding with organizing Memory as a Knowledge Graph. We leverage AucoDB features to enhance graph's capabilities of agent. The graph-based features is supported as follows:\n",
    "\n",
    "- Graph Construction: Builds knowledge graphs from documents using LLMGraphTransformer class from AucoDB, extracting entities (nodes) and relationships with enriched properties such as categories, roles, or timestamps.\n",
    "\n",
    "- Property Enrichment: Enhances nodes and relationships with contextual attributes derived from the input text, improving graph expressiveness.\n",
    "\n",
    "- Graph Visualization: Visualizes the constructed graph and exports it as a html file for easy sharing and analysis.\n",
    "\n",
    "- Neo4j Integration: Stores and manages graphs in a Neo4j database with secure client initialization.\n",
    "\n",
    "- Flexible Input: Processes unstructured text to create structured graphs, suitable for applications like knowledge management, AI research, and data analysis.\n",
    "\n",
    "\n",
    "Prerequisites\n",
    "\n",
    "- Neo4j Database: A running Neo4j instance (local or remote).\n",
    "- Python Packages: Install required dependencies:\n",
    "\n"
   ]
  },
  {
   "cell_type": "code",
   "execution_count": null,
   "id": "a7bce938",
   "metadata": {},
   "outputs": [],
   "source": [
    "%pip install langchain-together neo4j python-dotenv"
   ]
  },
  {
   "cell_type": "code",
   "execution_count": 2,
   "id": "2b80cc60",
   "metadata": {
    "vscode": {
     "languageId": "markdown"
    }
   },
   "outputs": [],
   "source": [
    "from langchain_together.chat_models import ChatTogether\n",
    "from dotenv import load_dotenv, find_dotenv\n",
    "from vinagent.memory import Memory\n",
    "\n",
    "load_dotenv(find_dotenv('.env'))\n",
    "\n",
    "llm = ChatTogether(\n",
    "    model=\"meta-llama/Llama-3.3-70B-Instruct-Turbo-Free\"\n",
    ")\n",
    "\n",
    "memory = Memory(\n",
    "    memory_path=\"templates/memory.jsonl\",\n",
    "    is_reset_memory=True, # will reset the memory every time the agent is invoked\n",
    "    is_logging=True\n",
    ")"
   ]
  },
  {
   "cell_type": "code",
   "execution_count": 3,
   "id": "e77261f3",
   "metadata": {
    "vscode": {
     "languageId": "markdown"
    }
   },
   "outputs": [
    {
     "name": "stderr",
     "output_type": "stream",
     "text": [
      "INFO:httpx:HTTP Request: POST https://api.together.xyz/v1/chat/completions \"HTTP/1.1 200 OK\"\n",
      "INFO:vinagent.memory.memory:Insert new line: {'head': 'Kan', 'head_type': 'Person', 'relation': 'BORN_IN', 'relation_properties': 'in 1993', 'tail': 'Thanh Hoa Province, Vietnam', 'tail_type': 'Location'}\n",
      "INFO:vinagent.memory.memory:Insert new line: {'head': 'Kan', 'head_type': 'Person', 'relation': 'WORKS_FOR', 'relation_properties': 'since 2021', 'tail': 'FPT Software', 'tail_type': 'Company'}\n",
      "INFO:vinagent.memory.memory:Insert new line: {'head': 'Kan', 'head_type': 'Person', 'relation': 'WORKS_FOR', 'relation_properties': 'since 2022', 'tail': 'NEU', 'tail_type': 'University'}\n",
      "INFO:vinagent.memory.memory:Insert new line: {'head': 'Kan', 'head_type': 'Person', 'relation': 'STUDIED_AT', 'relation_properties': '', 'tail': 'High School for Gifted Students, VNU University', 'tail_type': 'School'}\n",
      "INFO:vinagent.memory.memory:Insert new line: {'head': 'Kan', 'head_type': 'Person', 'relation': 'STUDIED_AT', 'relation_properties': 'graduated in 2015', 'tail': 'NEU University', 'tail_type': 'University'}\n",
      "INFO:vinagent.memory.memory:Insert new line: {'head': 'Kan', 'head_type': 'Person', 'relation': 'RESEARCHED_AT', 'relation_properties': '', 'tail': 'FPT AIC', 'tail_type': 'Institution'}\n",
      "INFO:vinagent.memory.memory:Insert new line: {'head': 'Kan', 'head_type': 'Person', 'relation': 'RECEIVED_AWARD', 'relation_properties': 'in 2025', 'tail': 'Nvidia GTC Global Conference', 'tail_type': 'Conference'}\n",
      "INFO:vinagent.memory.memory:Insert new line: {'head': 'Kan', 'head_type': 'Person', 'relation': 'FOUNDED', 'relation_properties': '', 'tail': 'DataScienceWorld.Kan', 'tail_type': 'Organization'}\n",
      "INFO:vinagent.memory.memory:Insert new line: {'head': 'Kan', 'head_type': 'Person', 'relation': 'PARTICIPATED_IN', 'relation_properties': 'since 2024', 'tail': 'Google GDSC', 'tail_type': 'Event'}\n",
      "INFO:vinagent.memory.memory:Insert new line: {'head': 'Kan', 'head_type': 'Person', 'relation': 'PARTICIPATED_IN', 'relation_properties': 'since 2024', 'tail': 'Google I/O', 'tail_type': 'Event'}\n",
      "INFO:vinagent.memory.memory:Insert new line: {'head': 'Kan', 'head_type': 'Person', 'relation': 'HAS_MOTTO', 'relation_properties': '', 'tail': 'Make the world better with data and models', 'tail_type': 'Motto'}\n",
      "INFO:vinagent.memory.memory:Saved memory!\n"
     ]
    },
    {
     "name": "stdout",
     "output_type": "stream",
     "text": [
      "Kan -> BORN_IN[in 1993] -> Thanh Hoa Province, Vietnam\n",
      "Kan -> WORKS_FOR[since 2021] -> FPT Software\n",
      "Kan -> WORKS_FOR[since 2022] -> NEU\n",
      "Kan -> STUDIED_AT -> High School for Gifted Students, VNU University\n",
      "Kan -> STUDIED_AT[graduated in 2015] -> NEU University\n",
      "Kan -> RESEARCHED_AT -> FPT AIC\n",
      "Kan -> RECEIVED_AWARD[in 2025] -> Nvidia GTC Global Conference\n",
      "Kan -> FOUNDED -> DataScienceWorld.Kan\n",
      "Kan -> PARTICIPATED_IN[since 2024] -> Google GDSC\n",
      "Kan -> PARTICIPATED_IN[since 2024] -> Google I/O\n",
      "Kan -> HAS_MOTTO -> Make the world better with data and models\n"
     ]
    }
   ],
   "source": [
    "text_input = \"\"\"Hi, my name is Kan. I was born in Thanh Hoa Province, Vietnam, in 1993.\n",
    "My motto is: \"Make the world better with data and models\". That’s why I work as an AI Solution Architect at FPT Software and as an AI lecturer at NEU.\n",
    "I began my journey as a gifted student in Mathematics at the High School for Gifted Students, VNU University, where I developed a deep passion for Math and Science.\n",
    "Later, I earned an Excellent Bachelor's Degree in Applied Mathematical Economics from NEU University in 2015. During my time there, I became the first student from the Math Department to win a bronze medal at the National Math Olympiad.\n",
    "I have been working as an AI Solution Architect at FPT Software since 2021.\n",
    "I have been teaching AI and ML courses at NEU university since 2022.\n",
    "I have conducted extensive research on Reliable AI, Generative AI, and Knowledge Graphs at FPT AIC.\n",
    "I was one of the first individuals in Vietnam to win a paper award on the topic of Generative AI and LLMs at the Nvidia GTC Global Conference 2025 in San Jose, USA.\n",
    "I am the founder of DataScienceWorld.Kan, an AI learning hub offering high-standard AI/ML courses such as Build Generative AI Applications and MLOps – Machine Learning in Production, designed for anyone pursuing a career as an AI/ML engineer.\n",
    "Since 2024, I have participated in Google GDSC and Google I/O as a guest speaker and AI/ML coach for dedicated AI startups.\n",
    "\"\"\"\n",
    "\n",
    "memory.save_short_term_memory(llm, text_input, user_id=\"Kan\")\n",
    "memory_message = memory.load_memory_by_user(load_type='string', user_id=\"Kan\")\n",
    "print(memory_message)"
   ]
  },
  {
   "cell_type": "markdown",
   "id": "82d4af1f",
   "metadata": {},
   "source": [
    "## Load memory by user_id\n",
    "\n",
    "Memory is organized by `user_id` to segment each user’s data within the long-term memory. Before starting a conversation, the agent can access the memory associated with the given `user_id`, which helps prevent confusion between users the agent has previously interacted with and toward on a more personalized experience. For instance, if the agent has a conversation with Mr. Kan, it can recall all that information in future sessions by referencing `user_id='Kan'`"
   ]
  },
  {
   "cell_type": "code",
   "execution_count": 4,
   "id": "d21ede28",
   "metadata": {
    "vscode": {
     "languageId": "markdown"
    }
   },
   "outputs": [],
   "source": [
    "message_user = memory.load_memory_by_user(load_type='list', user_id=\"Kan\")"
   ]
  },
  {
   "cell_type": "code",
   "execution_count": 5,
   "id": "3027d07a",
   "metadata": {
    "vscode": {
     "languageId": "markdown"
    }
   },
   "outputs": [
    {
     "data": {
      "text/plain": [
       "[{'head': 'Kan',\n",
       "  'head_type': 'Person',\n",
       "  'relation': 'BORN_IN',\n",
       "  'relation_properties': 'in 1993',\n",
       "  'tail': 'Thanh Hoa Province, Vietnam',\n",
       "  'tail_type': 'Location'},\n",
       " {'head': 'Kan',\n",
       "  'head_type': 'Person',\n",
       "  'relation': 'WORKS_FOR',\n",
       "  'relation_properties': 'since 2021',\n",
       "  'tail': 'FPT Software',\n",
       "  'tail_type': 'Company'},\n",
       " {'head': 'Kan',\n",
       "  'head_type': 'Person',\n",
       "  'relation': 'WORKS_FOR',\n",
       "  'relation_properties': 'since 2022',\n",
       "  'tail': 'NEU',\n",
       "  'tail_type': 'University'},\n",
       " {'head': 'Kan',\n",
       "  'head_type': 'Person',\n",
       "  'relation': 'STUDIED_AT',\n",
       "  'relation_properties': '',\n",
       "  'tail': 'High School for Gifted Students, VNU University',\n",
       "  'tail_type': 'School'},\n",
       " {'head': 'Kan',\n",
       "  'head_type': 'Person',\n",
       "  'relation': 'STUDIED_AT',\n",
       "  'relation_properties': 'graduated in 2015',\n",
       "  'tail': 'NEU University',\n",
       "  'tail_type': 'University'},\n",
       " {'head': 'Kan',\n",
       "  'head_type': 'Person',\n",
       "  'relation': 'RESEARCHED_AT',\n",
       "  'relation_properties': '',\n",
       "  'tail': 'FPT AIC',\n",
       "  'tail_type': 'Institution'},\n",
       " {'head': 'Kan',\n",
       "  'head_type': 'Person',\n",
       "  'relation': 'RECEIVED_AWARD',\n",
       "  'relation_properties': 'in 2025',\n",
       "  'tail': 'Nvidia GTC Global Conference',\n",
       "  'tail_type': 'Conference'},\n",
       " {'head': 'Kan',\n",
       "  'head_type': 'Person',\n",
       "  'relation': 'FOUNDED',\n",
       "  'relation_properties': '',\n",
       "  'tail': 'DataScienceWorld.Kan',\n",
       "  'tail_type': 'Organization'},\n",
       " {'head': 'Kan',\n",
       "  'head_type': 'Person',\n",
       "  'relation': 'PARTICIPATED_IN',\n",
       "  'relation_properties': 'since 2024',\n",
       "  'tail': 'Google GDSC',\n",
       "  'tail_type': 'Event'},\n",
       " {'head': 'Kan',\n",
       "  'head_type': 'Person',\n",
       "  'relation': 'PARTICIPATED_IN',\n",
       "  'relation_properties': 'since 2024',\n",
       "  'tail': 'Google I/O',\n",
       "  'tail_type': 'Event'},\n",
       " {'head': 'Kan',\n",
       "  'head_type': 'Person',\n",
       "  'relation': 'HAS_MOTTO',\n",
       "  'relation_properties': '',\n",
       "  'tail': 'Make the world better with data and models',\n",
       "  'tail_type': 'Motto'}]"
      ]
     },
     "execution_count": 5,
     "metadata": {},
     "output_type": "execute_result"
    }
   ],
   "source": [
    "message_user"
   ]
  },
  {
   "cell_type": "markdown",
   "id": "a8a2bc16",
   "metadata": {},
   "source": [
    "## Visualize on Neo4j\n",
    "\n",
    "You can explore the knowledge graph on-premise using the Neo4j dashboard at `http://localhost:7474/browser/`. This allows you to intuitively understand the nodes and relationships within your data.\n",
    "\n",
    "To enable this visualization, the `AucoDBNeo4jClient`, a client instance from the `AucoDB` library, supports ingesting graph memory directly into a `Neo4j` database. Once the data is ingested, you can use `Cypher` queries to retrieve nodes and edges for inspection or further analysis.\n",
    "\n",
    "**Note:**\n",
    "Authentication: Access to the Neo4j dashboard requires login using the same `username/password` credentials configured in your Docker environment (e.g., via the NEO4J_AUTH variable).\n",
    "\n",
    "If you prefer not to use the `Neo4j` web interface, the `AucoDBNeo4jClient` also provides a convenient method to export the entire graph to an HTML file, which is `client.visualize_graph(output_path=\"my_graph.html\")`.\n",
    "\n",
    "This method generates a standalone HTML file containing an interactive graph visualization, ideal for embedding in reports or sharing with others without requiring Neo4j access."
   ]
  },
  {
   "cell_type": "markdown",
   "id": "cca97adf",
   "metadata": {},
   "source": [
    "### Start Neo4j service\n",
    "\n",
    "Neo4j database can be install as a docker service. We need to create a `docker-compose.yml` file on local and start `Neo4j` database as follows:\n"
   ]
  },
  {
   "cell_type": "code",
   "execution_count": null,
   "id": "9439751a",
   "metadata": {
    "vscode": {
     "languageId": "markdown"
    }
   },
   "outputs": [],
   "source": [
    "%%writefile docker-compose.yml\n",
    "version: '3.8'\n",
    "\n",
    "services:\n",
    "  neo4j:\n",
    "    image: neo4j:latest\n",
    "    container_name: neo4j\n",
    "    ports:\n",
    "      - \"7474:7474\"\n",
    "      - \"7687:7687\"\n",
    "    environment:\n",
    "      - NEO4J_AUTH=neo4j/abc@12345"
   ]
  },
  {
   "cell_type": "markdown",
   "id": "456009bd",
   "metadata": {},
   "source": [
    "Start `neo4j` service by command:"
   ]
  },
  {
   "cell_type": "code",
   "execution_count": null,
   "id": "5ea8f182",
   "metadata": {
    "vscode": {
     "languageId": "markdown"
    }
   },
   "outputs": [],
   "source": [
    "docker-compose up"
   ]
  },
  {
   "cell_type": "markdown",
   "id": "7fcb9c0e",
   "metadata": {},
   "source": [
    "### Export Knowledge Graph"
   ]
  },
  {
   "cell_type": "markdown",
   "id": "b273723e",
   "metadata": {},
   "source": [
    "Install dependency `AucoDB` library to ingest knowledge graph to `Neo4j` database and and export graph to html file."
   ]
  },
  {
   "cell_type": "code",
   "execution_count": null,
   "id": "b145ddd3",
   "metadata": {
    "vscode": {
     "languageId": "markdown"
    }
   },
   "outputs": [],
   "source": [
    "%pip install aucodb"
   ]
  },
  {
   "cell_type": "markdown",
   "id": "93eea161",
   "metadata": {},
   "source": [
    "Initialze client instance"
   ]
  },
  {
   "cell_type": "code",
   "execution_count": null,
   "id": "b93d6b8c",
   "metadata": {
    "vscode": {
     "languageId": "markdown"
    }
   },
   "outputs": [],
   "source": [
    "from langchain_together.chat_models import ChatTogether\n",
    "from aucodb.graph.neo4j_client import AucoDBNeo4jClient\n",
    "from aucodb.graph import LLMGraphTransformer\n",
    "from dotenv import load_dotenv\n",
    "\n",
    "# Step 1: Initialize AucoDBNeo4jClient\n",
    "# Method 1: dirrectly passing arguments, but not ensure security\n",
    "NEO4J_URI = \"bolt://localhost:7687\"  # Update with your Neo4j URI\n",
    "NEO4J_USER = \"neo4j\"  # Update with your Neo4j username\n",
    "NEO4J_PASSWORD = \"abc@12345\"  # Update with your Neo4j password\n",
    "\n",
    "client = AucoDBNeo4jClient(uri = NEO4J_URI, user = NEO4J_USER, password = NEO4J_PASSWORD)"
   ]
  },
  {
   "cell_type": "code",
   "execution_count": null,
   "id": "22a04d36",
   "metadata": {
    "vscode": {
     "languageId": "markdown"
    }
   },
   "outputs": [],
   "source": [
    "# Step 2: Save user memory into jsonline\n",
    "import json\n",
    "\n",
    "with open(\"user_memory.jsonl\", \"w\") as f:\n",
    "    for item in message_user:\n",
    "        f.write(json.dumps(item) + \"\\n\")"
   ]
  },
  {
   "cell_type": "code",
   "execution_count": null,
   "id": "f4129d30",
   "metadata": {
    "vscode": {
     "languageId": "markdown"
    }
   },
   "outputs": [],
   "source": [
    "# Step 3: Load user_memory.jsonl into Neo4j.\n",
    "client.load_json_to_neo4j(\n",
    "    json_file='user_memory.jsonl',\n",
    "    is_reset_db=False\n",
    ")"
   ]
  },
  {
   "cell_type": "code",
   "execution_count": null,
   "id": "3ef2b5d1",
   "metadata": {
    "vscode": {
     "languageId": "markdown"
    }
   },
   "outputs": [],
   "source": [
    "# Step 4: Export graph into my_graph.html file.\n",
    "client.visualize_graph(output_file=\"my_graph.html\", show_in_browser=True)"
   ]
  },
  {
   "cell_type": "markdown",
   "id": "848d8741",
   "metadata": {},
   "source": [
    "## Agent with memory\n",
    "\n",
    "This feature allows to adhere `Memory` for each `Agent`. This is useful when you want to keep track of the user's behavior and conceptualize knowledge as a graph. As a result, it helps agent become more intelligent and capable of understanding personality and responding to user queries with greater accuracy.\n",
    "\n",
    "We structure our memory as a dictionary, where each key represents a user identifier. This memory is then injected into the Agent during initialization by setting `memory_path=\"your_memory_path.jsonl\"` as a long-term memory.\n",
    "\n",
    "Asking agent with user_id = 'Kan'"
   ]
  },
  {
   "cell_type": "code",
   "execution_count": 6,
   "id": "9016de5c",
   "metadata": {
    "vscode": {
     "languageId": "markdown"
    }
   },
   "outputs": [
    {
     "name": "stdout",
     "output_type": "stream",
     "text": [
      "{\n",
      "    \"Kan\": [\n",
      "        {\n",
      "            \"head\": \"Kan\",\n",
      "            \"head_type\": \"Person\",\n",
      "            \"relation\": \"BORN_IN\",\n",
      "            \"relation_properties\": \"in 1993\",\n",
      "            \"tail\": \"Thanh Hoa Province, Vietnam\",\n",
      "            \"tail_type\": \"Location\"\n",
      "        },\n",
      "        {\n",
      "            \"head\": \"Kan\",\n",
      "            \"head_type\": \"Person\",\n",
      "            \"relation\": \"WORKS_FOR\",\n",
      "            \"relation_properties\": \"since 2021\",\n",
      "            \"tail\": \"FPT Software\",\n",
      "            \"tail_type\": \"Company\"\n",
      "        },\n",
      "        {\n",
      "            \"head\": \"Kan\",\n",
      "            \"head_type\": \"Person\",\n",
      "            \"relation\": \"WORKS_FOR\",\n",
      "            \"relation_properties\": \"since 2022\",\n",
      "            \"tail\": \"NEU\",\n",
      "            \"tail_type\": \"University\"\n",
      "        },\n",
      "        {\n",
      "            \"head\": \"Kan\",\n",
      "            \"head_type\": \"Person\",\n",
      "            \"relation\": \"STUDIED_AT\",\n",
      "            \"relation_properties\": \"\",\n",
      "            \"tail\": \"High School for Gifted Students, VNU University\",\n",
      "            \"tail_type\": \"School\"\n",
      "        },\n",
      "        {\n",
      "            \"head\": \"Kan\",\n",
      "            \"head_type\": \"Person\",\n",
      "            \"relation\": \"STUDIED_AT\",\n",
      "            \"relation_properties\": \"graduated in 2015\",\n",
      "            \"tail\": \"NEU University\",\n",
      "            \"tail_type\": \"University\"\n",
      "        },\n",
      "        {\n",
      "            \"head\": \"Kan\",\n",
      "            \"head_type\": \"Person\",\n",
      "            \"relation\": \"RESEARCHED_AT\",\n",
      "            \"relation_properties\": \"\",\n",
      "            \"tail\": \"FPT AIC\",\n",
      "            \"tail_type\": \"Institution\"\n",
      "        },\n",
      "        {\n",
      "            \"head\": \"Kan\",\n",
      "            \"head_type\": \"Person\",\n",
      "            \"relation\": \"RECEIVED_AWARD\",\n",
      "            \"relation_properties\": \"in 2025\",\n",
      "            \"tail\": \"Nvidia GTC Global Conference\",\n",
      "            \"tail_type\": \"Conference\"\n",
      "        },\n",
      "        {\n",
      "            \"head\": \"Kan\",\n",
      "            \"head_type\": \"Person\",\n",
      "            \"relation\": \"FOUNDED\",\n",
      "            \"relation_properties\": \"\",\n",
      "            \"tail\": \"DataScienceWorld.Kan\",\n",
      "            \"tail_type\": \"Organization\"\n",
      "        },\n",
      "        {\n",
      "            \"head\": \"Kan\",\n",
      "            \"head_type\": \"Person\",\n",
      "            \"relation\": \"PARTICIPATED_IN\",\n",
      "            \"relation_properties\": \"since 2024\",\n",
      "            \"tail\": \"Google GDSC\",\n",
      "            \"tail_type\": \"Event\"\n",
      "        },\n",
      "        {\n",
      "            \"head\": \"Kan\",\n",
      "            \"head_type\": \"Person\",\n",
      "            \"relation\": \"PARTICIPATED_IN\",\n",
      "            \"relation_properties\": \"since 2024\",\n",
      "            \"tail\": \"Google I/O\",\n",
      "            \"tail_type\": \"Event\"\n",
      "        },\n",
      "        {\n",
      "            \"head\": \"Kan\",\n",
      "            \"head_type\": \"Person\",\n",
      "            \"relation\": \"HAS_MOTTO\",\n",
      "            \"relation_properties\": \"\",\n",
      "            \"tail\": \"Make the world better with data and models\",\n",
      "            \"tail_type\": \"Motto\"\n",
      "        }\n",
      "    ]\n",
      "}"
     ]
    }
   ],
   "source": [
    "!cat templates/memory.jsonl"
   ]
  },
  {
   "cell_type": "markdown",
   "id": "f9dc89f4",
   "metadata": {},
   "source": [
    "Asking agent with user_id = 'Kan'"
   ]
  },
  {
   "cell_type": "code",
   "execution_count": 7,
   "id": "dd089a22",
   "metadata": {
    "vscode": {
     "languageId": "markdown"
    }
   },
   "outputs": [
    {
     "name": "stderr",
     "output_type": "stream",
     "text": [
      "INFO:vinagent.agent.agent:I'am chatting with Kan\n",
      "INFO:httpx:HTTP Request: POST https://api.together.xyz/v1/chat/completions \"HTTP/1.1 200 OK\"\n"
     ]
    },
    {
     "data": {
      "text/plain": [
       "\"Kan's motto is Make the world better with data and models.\""
      ]
     },
     "execution_count": 7,
     "metadata": {},
     "output_type": "execute_result"
    }
   ],
   "source": [
    "import os\n",
    "import sys\n",
    "from langchain_together import ChatTogether \n",
    "from vinagent.agent import Agent\n",
    "from vinagent.memory.memory import Memory\n",
    "from pathlib import Path\n",
    "from dotenv import load_dotenv\n",
    "\n",
    "load_dotenv()\n",
    "\n",
    "llm = ChatTogether(\n",
    "    model=\"meta-llama/Llama-3.3-70B-Instruct-Turbo-Free\"\n",
    ")\n",
    "\n",
    "# Step 1: Create Agent with tools\n",
    "agent = Agent(\n",
    "    llm = llm,\n",
    "    description=\"You are my close friend\",\n",
    "    skills=[\n",
    "        \"You can remember all memory related to us\",\n",
    "        \"You can remind the memory to answer questions\",\n",
    "        \"You can remember the history of our relationship\"\n",
    "    ],\n",
    "    memory_path='templates/memory.jsonl',\n",
    "    is_reset_memory=False # If True, reset memory each time re-initialize agent, else use existing memory\n",
    ")\n",
    "\n",
    "# Step 2: invoke the agent\n",
    "message = agent.invoke(\"What is your Motto?\", user_id=\"Kan\")\n",
    "message.content"
   ]
  },
  {
   "cell_type": "markdown",
   "id": "cd75a52d",
   "metadata": {},
   "source": [
    "Each message in the conversation is considered as a short-term memory. You can save them to long-term memory under the Graph form by setting `is_save_memory=True`."
   ]
  },
  {
   "cell_type": "code",
   "execution_count": 8,
   "id": "18e64398",
   "metadata": {
    "vscode": {
     "languageId": "markdown"
    }
   },
   "outputs": [
    {
     "name": "stderr",
     "output_type": "stream",
     "text": [
      "INFO:vinagent.agent.agent:I'am chatting with Kan\n",
      "INFO:httpx:HTTP Request: POST https://api.together.xyz/v1/chat/completions \"HTTP/1.1 200 OK\"\n",
      "INFO:root:Saved to memory the query: Hi, I'm Kan, who is a leader of Vinagent project\n",
      "INFO:httpx:HTTP Request: POST https://api.together.xyz/v1/chat/completions \"HTTP/1.1 200 OK\"\n"
     ]
    }
   ],
   "source": [
    "message = agent.invoke(\"Hi, I'm Kan, who is a leader of Vinagent project\", user_id=\"Kan\", is_save_memory=True)"
   ]
  },
  {
   "cell_type": "code",
   "execution_count": 9,
   "id": "982ec64b",
   "metadata": {
    "vscode": {
     "languageId": "markdown"
    }
   },
   "outputs": [
    {
     "data": {
      "text/plain": [
       "AIMessage(content=\"Hi Kan, it's great to hear that you're the leader of the Vinagent project. How's the project going so far?\", additional_kwargs={'refusal': None}, response_metadata={'token_usage': {'completion_tokens': 28, 'prompt_tokens': 502, 'total_tokens': 530, 'completion_tokens_details': None, 'prompt_tokens_details': None, 'cached_tokens': 0}, 'model_name': 'meta-llama/Llama-3.3-70B-Instruct-Turbo-Free', 'system_fingerprint': None, 'finish_reason': 'stop', 'logprobs': None}, id='run-1866159f-b163-47d1-abdd-437e1b38b316-0', usage_metadata={'input_tokens': 502, 'output_tokens': 28, 'total_tokens': 530, 'input_token_details': {}, 'output_token_details': {}})"
      ]
     },
     "execution_count": 9,
     "metadata": {},
     "output_type": "execute_result"
    }
   ],
   "source": [
    "message"
   ]
  },
  {
   "cell_type": "code",
   "execution_count": 10,
   "id": "e81e71f2",
   "metadata": {
    "vscode": {
     "languageId": "markdown"
    }
   },
   "outputs": [
    {
     "name": "stdout",
     "output_type": "stream",
     "text": [
      "{\n",
      "    \"Kan\": [\n",
      "        {\n",
      "            \"head\": \"Kan\",\n",
      "            \"head_type\": \"Person\",\n",
      "            \"relation\": \"BORN_IN\",\n",
      "            \"relation_properties\": \"in 1993\",\n",
      "            \"tail\": \"Thanh Hoa Province, Vietnam\",\n",
      "            \"tail_type\": \"Location\"\n",
      "        },\n",
      "        {\n",
      "            \"head\": \"Kan\",\n",
      "            \"head_type\": \"Person\",\n",
      "            \"relation\": \"WORKS_FOR\",\n",
      "            \"relation_properties\": \"since 2021\",\n",
      "            \"tail\": \"FPT Software\",\n",
      "            \"tail_type\": \"Company\"\n",
      "        },\n",
      "        {\n",
      "            \"head\": \"Kan\",\n",
      "            \"head_type\": \"Person\",\n",
      "            \"relation\": \"WORKS_FOR\",\n",
      "            \"relation_properties\": \"since 2022\",\n",
      "            \"tail\": \"NEU\",\n",
      "            \"tail_type\": \"University\"\n",
      "        },\n",
      "        {\n",
      "            \"head\": \"Kan\",\n",
      "            \"head_type\": \"Person\",\n",
      "            \"relation\": \"STUDIED_AT\",\n",
      "            \"relation_properties\": \"\",\n",
      "            \"tail\": \"High School for Gifted Students, VNU University\",\n",
      "            \"tail_type\": \"School\"\n",
      "        },\n",
      "        {\n",
      "            \"head\": \"Kan\",\n",
      "            \"head_type\": \"Person\",\n",
      "            \"relation\": \"STUDIED_AT\",\n",
      "            \"relation_properties\": \"graduated in 2015\",\n",
      "            \"tail\": \"NEU University\",\n",
      "            \"tail_type\": \"University\"\n",
      "        },\n",
      "        {\n",
      "            \"head\": \"Kan\",\n",
      "            \"head_type\": \"Person\",\n",
      "            \"relation\": \"RESEARCHED_AT\",\n",
      "            \"relation_properties\": \"\",\n",
      "            \"tail\": \"FPT AIC\",\n",
      "            \"tail_type\": \"Institution\"\n",
      "        },\n",
      "        {\n",
      "            \"head\": \"Kan\",\n",
      "            \"head_type\": \"Person\",\n",
      "            \"relation\": \"RECEIVED_AWARD\",\n",
      "            \"relation_properties\": \"in 2025\",\n",
      "            \"tail\": \"Nvidia GTC Global Conference\",\n",
      "            \"tail_type\": \"Conference\"\n",
      "        },\n",
      "        {\n",
      "            \"head\": \"Kan\",\n",
      "            \"head_type\": \"Person\",\n",
      "            \"relation\": \"FOUNDED\",\n",
      "            \"relation_properties\": \"\",\n",
      "            \"tail\": \"DataScienceWorld.Kan\",\n",
      "            \"tail_type\": \"Organization\"\n",
      "        },\n",
      "        {\n",
      "            \"head\": \"Kan\",\n",
      "            \"head_type\": \"Person\",\n",
      "            \"relation\": \"PARTICIPATED_IN\",\n",
      "            \"relation_properties\": \"since 2024\",\n",
      "            \"tail\": \"Google GDSC\",\n",
      "            \"tail_type\": \"Event\"\n",
      "        },\n",
      "        {\n",
      "            \"head\": \"Kan\",\n",
      "            \"head_type\": \"Person\",\n",
      "            \"relation\": \"PARTICIPATED_IN\",\n",
      "            \"relation_properties\": \"since 2024\",\n",
      "            \"tail\": \"Google I/O\",\n",
      "            \"tail_type\": \"Event\"\n",
      "        },\n",
      "        {\n",
      "            \"head\": \"Kan\",\n",
      "            \"head_type\": \"Person\",\n",
      "            \"relation\": \"HAS_MOTTO\",\n",
      "            \"relation_properties\": \"\",\n",
      "            \"tail\": \"Make the world better with data and models\",\n",
      "            \"tail_type\": \"Motto\"\n",
      "        },\n",
      "        {\n",
      "            \"head\": \"Kan\",\n",
      "            \"head_type\": \"Person\",\n",
      "            \"relation\": \"LEADS\",\n",
      "            \"relation_properties\": \"\",\n",
      "            \"tail\": \"Vinagent project\",\n",
      "            \"tail_type\": \"Project\"\n",
      "        }\n",
      "    ]\n",
      "}"
     ]
    }
   ],
   "source": [
    "!cat templates/memory.jsonl"
   ]
  }
 ],
 "metadata": {
  "kernelspec": {
   "display_name": ".venv",
   "language": "python",
   "name": "python3"
  },
  "language_info": {
   "codemirror_mode": {
    "name": "ipython",
    "version": 3
   },
   "file_extension": ".py",
   "mimetype": "text/x-python",
   "name": "python",
   "nbconvert_exporter": "python",
   "pygments_lexer": "ipython3",
   "version": "3.10.10"
  }
 },
 "nbformat": 4,
 "nbformat_minor": 5
}
