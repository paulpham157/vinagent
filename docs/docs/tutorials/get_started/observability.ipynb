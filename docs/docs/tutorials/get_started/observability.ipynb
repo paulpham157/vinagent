{
 "cells": [
  {
   "cell_type": "markdown",
   "id": "c4a42d4f",
   "metadata": {},
   "source": [
    "# Agent Observability\n",
    "\n",
    "[![Open in Colab](https://colab.research.google.com/assets/colab-badge.svg)](https://colab.research.google.com/github/datascienceworld-kan/vinagent-docs/blob/main/docs/tutorials/get_started/observability.ipynb)\n",
    "\n",
    "Vinagent provides a local MLflow dashboard that can be used to visualize the intermediate messsages of each query. Therefore, it is an important feature for debugging.\n",
    "\n",
    "- Engineer can trace the number of tokens, execution time, type of tool, and status of exection.\n",
    "- Based on tracked results, Agent developers can indentify inefficient steps, optimize agent components like tools, prompts, agent description, agent skills, and LLM model.\n",
    "- Accelerate process of debugging and improving the agent's performance.\n",
    "\n",
    "Local tracing and observability ensure system security and data privacy, as your agent states are not dispatched outside your on-premise system. A local server can be quickly set up without creating an account, helping to reduce costs and accelerate the profiling process. Furthermore, Vinagent allows users to intervene in the logging states by adjusting the `vinagent.mlflow.autolog` code, enabling the addition of more state fields as needed.\n",
    "\n",
    "Let's install vinagent library for this tutorial.\n"
   ]
  },
  {
   "cell_type": "code",
   "execution_count": null,
   "id": "16a35160",
   "metadata": {},
   "outputs": [],
   "source": [
    "%pip install vinagent"
   ]
  },
  {
   "cell_type": "markdown",
   "id": "09c558cf",
   "metadata": {},
   "source": [
    "## Start MLflow UI\n",
    "\n",
    "MLflow offers an local UI, which connets to mlflow server understreaming. This UI comprises all experients from conversations between user and agent. To start this UI, let's run this command on `terminal/command line interface` in your computer:"
   ]
  },
  {
   "cell_type": "code",
   "execution_count": null,
   "id": "c3c68362",
   "metadata": {},
   "outputs": [],
   "source": [
    "mlflow ui"
   ]
  },
  {
   "cell_type": "markdown",
   "id": "1c265c32",
   "metadata": {},
   "source": [
    "An MLflow dashboard starts, which can be accessed at [http://localhost:5000](http://localhost:5000).\n"
   ]
  },
  {
   "cell_type": "markdown",
   "id": "fa4d20d2",
   "metadata": {},
   "source": [
    "## Initialize Experiment"
   ]
  },
  {
   "cell_type": "markdown",
   "id": "2d2e817e",
   "metadata": {},
   "source": [
    "Initialize an experiment to auto-log messages for agent"
   ]
  },
  {
   "cell_type": "code",
   "execution_count": 1,
   "id": "c51fb3b0",
   "metadata": {},
   "outputs": [
    {
     "name": "stderr",
     "output_type": "stream",
     "text": [
      "2025/07/16 19:07:59 INFO mlflow.tracking.fluent: Experiment with name 'agent-dev' does not exist. Creating a new experiment.\n"
     ]
    },
    {
     "data": {
      "text/plain": [
       "<Experiment: artifact_location='mlflow-artifacts:/900548938729976750', creation_time=1752667679250, experiment_id='900548938729976750', last_update_time=1752667679250, lifecycle_stage='active', name='agent-dev', tags={}>"
      ]
     },
     "execution_count": 1,
     "metadata": {},
     "output_type": "execute_result"
    }
   ],
   "source": [
    "import mlflow\n",
    "from vinagent.mlflow import autolog\n",
    "\n",
    "# Enable Vinagent autologging\n",
    "autolog.autolog()\n",
    "\n",
    "# Optional: Set tracking URI and experiment\n",
    "mlflow.set_tracking_uri(\"http://localhost:5000\")\n",
    "mlflow.set_experiment(\"agent-dev\")"
   ]
  },
  {
   "cell_type": "markdown",
   "id": "c9ccdaca",
   "metadata": {},
   "source": [
    "After this step, an experiment named `agent-dev` is initialized. An observability and tracing feature are automatically registered for each query to the agent without requiring any changes to the original invocation code."
   ]
  },
  {
   "cell_type": "markdown",
   "id": "542553a0",
   "metadata": {},
   "source": [
    "## Observability and Tracing\n",
    "\n",
    "A default MLflow dashboard is launched to display the experiment results, within the Jupyter Notebook, making it convenient for agent developers to test and optimize their agent design directly. Every query is now tracked under the experiment named `agent-dev`."
   ]
  },
  {
   "cell_type": "code",
   "execution_count": null,
   "id": "ca843a6d",
   "metadata": {},
   "outputs": [],
   "source": [
    "%%writefile .env\n",
    "TOGETHER_API_KEY=\"Your together API key\"\n",
    "TAVILY_API_KEY=\"Your Tavily API key\""
   ]
  },
  {
   "cell_type": "code",
   "execution_count": 2,
   "id": "1dfed587",
   "metadata": {},
   "outputs": [
    {
     "name": "stderr",
     "output_type": "stream",
     "text": [
      "INFO:httpx:HTTP Request: POST https://api.together.xyz/v1/chat/completions \"HTTP/1.1 200 OK\"\n",
      "INFO:vinagent.register.tool:Registered search_api:\n",
      "{'tool_name': 'search_api', 'arguments': {'query': {'type': 'Union[str, dict[str, str]]', 'value': '{}'}}, 'return': 'Any', 'docstring': 'Search for an answer from a query string\\n    Args:\\n        query (dict[str, str]):  The input query to search\\n    Returns:\\n        The answer from search query', 'dependencies': ['os', 'dotenv', 'tavily', 'dataclasses', 'typing'], 'module_path': 'vinagent.tools.websearch_tools', 'tool_type': 'module', 'tool_call_id': 'tool_5d2b53b1-b012-48ac-83cd-bc9d3c115c50'}\n",
      "INFO:vinagent.register.tool:Completed registration for module vinagent.tools.websearch_tools\n",
      "INFO:vinagent.agent.agent:I'am chatting with unknown_user\n",
      "INFO:httpx:HTTP Request: POST https://api.together.xyz/v1/chat/completions \"HTTP/1.1 200 OK\"\n",
      "INFO:root:{'tool_name': 'search_api', 'tool_type': 'module', 'arguments': {'query': 'Ha Noi weather today'}, 'module_path': 'vinagent.tools.websearch_tools'}\n",
      "INFO:vinagent.register.tool:Completed executing module tool search_api({'query': 'Ha Noi weather today'})\n",
      "INFO:httpx:HTTP Request: POST https://api.together.xyz/v1/chat/completions \"HTTP/1.1 200 OK\"\n"
     ]
    },
    {
     "data": {
      "text/html": [
       "\n",
       "<div>\n",
       "  <style scoped>\n",
       "  button {\n",
       "    border: none;\n",
       "    border-radius: 4px;\n",
       "    background-color: rgb(34, 114, 180);\n",
       "    font-family: -apple-system, \"system-ui\", \"Segoe UI\", Roboto, \"Helvetica Neue\", Arial;\n",
       "    font-size: 13px;\n",
       "    color: white;\n",
       "    margin-top: 8px;\n",
       "    margin-bottom: 8px;\n",
       "    padding: 8px 16px;\n",
       "    cursor: pointer;\n",
       "  }\n",
       "  button:hover {\n",
       "    background-color: rgb(66, 153, 224);\n",
       "  }\n",
       "  </style>\n",
       "  <button\n",
       "    onclick=\"\n",
       "        const display = this.nextElementSibling.style.display;\n",
       "        const isCollapsed = display === 'none';\n",
       "        this.nextElementSibling.style.display = isCollapsed ? null : 'none';\n",
       "\n",
       "        const verb = isCollapsed ? 'Collapse' : 'Expand';\n",
       "        this.innerText = `${verb} MLflow Trace`;\n",
       "    \"\n",
       "  >Collapse MLflow Trace</button>\n",
       "  <iframe\n",
       "    id=\"trace-renderer\"\n",
       "    style=\"width: 100%; height: 500px; border: none; resize: vertical;\"\n",
       "    src=\"http://localhost:5000/static-files/lib/notebook-trace-renderer/index.html?trace_id=74105e3849a041e09eb828d73dfbf515&amp;experiment_id=900548938729976750&amp;trace_id=6ec5f26c820340ad9a2b5d3091771eb6&amp;experiment_id=900548938729976750&amp;version=3.1.0\"\n",
       "  />\n",
       "</div>\n"
      ],
      "text/plain": [
       "[Trace(trace_id=74105e3849a041e09eb828d73dfbf515), Trace(trace_id=6ec5f26c820340ad9a2b5d3091771eb6)]"
      ]
     },
     "metadata": {},
     "output_type": "display_data"
    }
   ],
   "source": [
    "from langchain_together import ChatTogether \n",
    "from vinagent.agent.agent import Agent\n",
    "from dotenv import load_dotenv\n",
    "load_dotenv()\n",
    "\n",
    "llm = ChatTogether(\n",
    "    model=\"meta-llama/Llama-3.3-70B-Instruct-Turbo-Free\"\n",
    ")\n",
    "\n",
    "agent = Agent(\n",
    "    description=\"You are an Expert who can answer any general questions.\",\n",
    "    llm = llm,\n",
    "    skills = [\n",
    "        \"Searching information from external search engine\\n\",\n",
    "        \"Summarize the main information\\n\"],\n",
    "    tools = ['vinagent.tools.websearch_tools'],\n",
    "    tools_path = 'templates/tools.json',\n",
    "    memory_path = 'templates/memory.json'\n",
    ")\n",
    "\n",
    "result = agent.invoke(query=\"What is the weather today in Ha Noi?\")"
   ]
  },
  {
   "cell_type": "markdown",
   "id": "266ead18",
   "metadata": {},
   "source": [
    "*Note:*\n",
    "    You are able to access the dashboard at http://localhost:5000/ and view logs of aformentioned query by accessing to `agent-dev` and click to `Traces` tab on the last of header navigation bar of `agent-dev` experiment."
   ]
  }
 ],
 "metadata": {
  "kernelspec": {
   "display_name": ".venv",
   "language": "python",
   "name": "python3"
  },
  "language_info": {
   "codemirror_mode": {
    "name": "ipython",
    "version": 3
   },
   "file_extension": ".py",
   "mimetype": "text/x-python",
   "name": "python",
   "nbconvert_exporter": "python",
   "pygments_lexer": "ipython3",
   "version": "3.10.10"
  }
 },
 "nbformat": 4,
 "nbformat_minor": 5
}
