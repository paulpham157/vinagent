{
  "cells": [
    {
      "cell_type": "markdown",
      "metadata": {},
      "source": [
        "# Academic Paper Research with vinagent\n",
        "\n",
        "_Contributor: Thanh Lam_\n",
        "\n",
        "[![Open in Colab](https://colab.research.google.com/assets/colab-badge.svg)](https://colab.research.google.com/github/datascienceworld-kan/vinagent/blob/main/docs/docs/tutorials/guides/3.Paper_Research.ipynb)\n",
        "\n",
        "In this tutorial, let's study Researcher Agent, which is an AI-powered tool designed to streamline the process of academic research by leveraging the vast repository of papers on arXiv. This agent automates tasks such as searching for relevant papers, extracting key information, analyzing methodologies, and generating comprehensive literature reviews. Its importance lies in its ability to save researchers time, enhance the efficiency of literature reviews, and provide insights into interdisciplinary and emerging research trends. By integrating with arXiv, the agent ensures access to cutting-edge research across various domains, making it an invaluable tool for academics, students, and professionals seeking to stay updated or dive deep into specific topics.\n",
        "\n",
        "This tutorial outlines the step-by-step process of designing a Researcher Agent using Vinagent, focusing on its application for studying research topics sourced from arXiv. We will explore the design process, present coherent use cases with real-world scenarios, and provide detailed explanations of each step before diving into the implementation."
      ]
    },
    {
      "cell_type": "markdown",
      "metadata": {},
      "source": [
        "## Installation"
      ]
    },
    {
      "cell_type": "code",
      "execution_count": null,
      "metadata": {},
      "outputs": [],
      "source": [
        "%pip install vinagent\n",
        "%pip install arxiv==2.1.3 langchain-groq==0.2.8 python-dotenv==1.0.1"
      ]
    },
    {
      "cell_type": "markdown",
      "metadata": {},
      "source": [
        "## Environment Setup\n",
        "\n",
        "Set up your API key for the LLM provider. This tutorial uses [Groq API](https://console.groq.com/keys) for optimal performance in academic text processing."
      ]
    },
    {
      "cell_type": "code",
      "execution_count": null,
      "metadata": {},
      "outputs": [
        {
          "name": "stdout",
          "output_type": "stream",
          "text": [
            "Overwriting .env\n"
          ]
        }
      ],
      "source": [
        "%%writefile .env\n",
        "GROQ_API_KEY=your_api_key"
      ]
    },
    {
      "cell_type": "markdown",
      "metadata": {},
      "source": [
        "## Agent Creation\n",
        "\n",
        "Create a specialized Paper Research Agent with built-in search and analysis capabilities."
      ]
    },
    {
      "cell_type": "code",
      "execution_count": 27,
      "metadata": {},
      "outputs": [
        {
          "name": "stderr",
          "output_type": "stream",
          "text": [
            "INFO:httpx:HTTP Request: POST https://api.groq.com/openai/v1/chat/completions \"HTTP/1.1 200 OK\"\n",
            "INFO:vinagent.register.tool:Registered paper_research:\n",
            "{'tool_name': 'paper_research', 'arguments': {'topic': 'str', 'max_results': 5}, 'return': 'Dict[str, Any]', 'docstring': 'Search for academic papers on arXiv and return paper information.', 'dependencies': ['arxiv', 'typing'], 'module_path': 'vinagent.tools.paper_research_tools', 'tool_type': 'module', 'tool_call_id': 'tool_4efcb2c4-8b01-4949-930c-0185cd81d483'}\n",
            "INFO:vinagent.register.tool:Completed registration for module vinagent.tools.paper_research_tools\n"
          ]
        },
        {
          "name": "stdout",
          "output_type": "stream",
          "text": [
            "--------------------------------------------------\n",
            "Paper Research Agent initialized\n"
          ]
        }
      ],
      "source": [
        "from langchain_groq import ChatGroq\n",
        "from vinagent.agent.agent import Agent\n",
        "from dotenv import load_dotenv, find_dotenv\n",
        "\n",
        "load_dotenv(find_dotenv('.env'))\n",
        "\n",
        "llm = ChatGroq(\n",
        "    model=\"meta-llama/llama-4-scout-17b-16e-instruct\",\n",
        ")\n",
        "\n",
        "paper_agent = Agent(\n",
        "    description=\"You are an academic research assistant specialized in finding and analyzing papers from arXiv.\",\n",
        "    llm=llm,\n",
        "    skills=[\n",
        "        \"Search academic papers by topic and keywords\",\n",
        "        \"Extract detailed paper information using arXiv IDs\", \n",
        "        \"Analyze and compare research approaches\",\n",
        "        \"Create literature reviews and summaries\"\n",
        "    ],\n",
        "    tools=[\n",
        "        'vinagent.tools.paper_research_tools'\n",
        "    ],\n",
        "    tools_path='templates/tools.json',\n",
        "    is_reset_tools=True\n",
        ")\n",
        "print(\"-\" * 50)\n",
        "print(\"Paper Research Agent initialized\")\n"
      ]
    },
    {
      "cell_type": "code",
      "execution_count": 28,
      "metadata": {},
      "outputs": [
        {
          "name": "stderr",
          "output_type": "stream",
          "text": [
            "INFO:vinagent.agent.agent:No authentication card provided, skipping authentication\n",
            "INFO:vinagent.agent.agent:I'am chatting with unknown_user\n",
            "INFO:vinagent.agent.agent:Tool calling iteration 1/10\n",
            "INFO:httpx:HTTP Request: POST https://api.groq.com/openai/v1/chat/completions \"HTTP/1.1 200 OK\"\n",
            "INFO:vinagent.agent.agent:Executing tool call: {'tool_name': 'paper_research', 'tool_type': 'module', 'module_path': 'vinagent.tools.paper_research_tools', 'arguments': {'topic': 'machine learning', 'max_results': 2}}\n",
            "INFO:arxiv:Requesting page (first: True, try: 0): https://export.arxiv.org/api/query?search_query=machine+learning&id_list=&sortBy=relevance&sortOrder=descending&start=0&max_results=100\n",
            "INFO:arxiv:Got first page: 100 of 421560 total results\n",
            "INFO:vinagent.register.tool:Completed executing module tool paper_research({'topic': 'machine learning', 'max_results': 2})\n",
            "INFO:vinagent.agent.agent:Tool calling iteration 2/10\n",
            "INFO:httpx:HTTP Request: POST https://api.groq.com/openai/v1/chat/completions \"HTTP/1.1 200 OK\"\n",
            "INFO:vinagent.agent.agent:No more tool calls needed. Completed in 2 iterations.\n"
          ]
        },
        {
          "name": "stdout",
          "output_type": "stream",
          "text": [
            "--------------------------------------------------\n",
            "Unified Paper Research Tool Result:\n",
            "Two papers about 'machine learning' were found. \n",
            "\n",
            "The first paper is titled \"Lecture Notes: Optimization for Machine Learning\" with the paper ID '1909.03550v1'. It was published on 2019-09-08 and written by Elad Hazan. The summary of this paper is about lecture notes on optimization for machine learning, derived from a course at Princeton University and tutorials given in MLSS, Buenos Aires, as well as Simons Foundation, Berkeley.\n",
            "\n",
            "The second paper is titled \"An Optimal Control View of Adversarial Machine Learning\" with the paper ID '1811.04422v1'. It was published on 2018-11-11 and written by Xiaojin Zhu. The summary of this paper is about an optimal control view of adversarial machine learning, where the dynamical system is the machine learner, the input are adversarial actions, and the control costs are defined by the adversary's goals to do harm and be hard to detect.\n",
            "\n",
            "You can access the papers at http://arxiv.org/pdf/1909.03550v1 and http://arxiv.org/pdf/1811.04422v1 respectively.\n"
          ]
        }
      ],
      "source": [
        "# Test the unified paper research tool that returns both IDs and info\n",
        "test_response = paper_agent.invoke(\"\"\"\n",
        "Search for 2 papers about 'machine learning' using the paper research tool.\n",
        "The tool will return both paper IDs and detailed information in one call.\n",
        "\"\"\")\n",
        "print(\"-\" * 50)\n",
        "print(\"Unified Paper Research Tool Result:\")\n",
        "print(test_response.content)\n"
      ]
    },
    {
      "cell_type": "markdown",
      "metadata": {},
      "source": [
        "The following use cases demonstrate how the Researcher Agent can be applied to real-world research scenarios. They are arranged  from basic search tasks to complex interdisciplinary analyses."
      ]
    },
    {
      "cell_type": "markdown",
      "metadata": {},
      "source": [
        "## Use Case 1: Topic-based Paper Search\n",
        "\n",
        "If you are a graduate student, who is starting a thesis on transformer architectures and needs to quickly identify recent, relevant papers to understand the state of the field. They lack the time to manually sift through thousands of arXiv papers.\n",
        "\n",
        "This use case involves querying `arXiv` for papers on a specific topic, retrieving metadata (e.g., titles, authors, summaries), and summarizing key findings. The agent uses the `paper_research` tool to fetch results and generates a concise summary, saving the researcher hours of manual work."
      ]
    },
    {
      "cell_type": "code",
      "execution_count": 29,
      "metadata": {},
      "outputs": [
        {
          "name": "stderr",
          "output_type": "stream",
          "text": [
            "INFO:vinagent.agent.agent:No authentication card provided, skipping authentication\n",
            "INFO:vinagent.agent.agent:I'am chatting with unknown_user\n",
            "INFO:vinagent.agent.agent:Tool calling iteration 1/10\n",
            "INFO:httpx:HTTP Request: POST https://api.groq.com/openai/v1/chat/completions \"HTTP/1.1 200 OK\"\n",
            "INFO:vinagent.agent.agent:Executing tool call: {'tool_name': 'paper_research', 'tool_type': 'module', 'arguments': {'topic': 'transformer architecture', 'max_results': 3}, 'module_path': 'vinagent.tools.paper_research_tools'}\n",
            "INFO:arxiv:Requesting page (first: True, try: 0): https://export.arxiv.org/api/query?search_query=transformer+architecture&id_list=&sortBy=relevance&sortOrder=descending&start=0&max_results=100\n",
            "INFO:arxiv:Got first page: 100 of 245170 total results\n",
            "INFO:vinagent.register.tool:Completed executing module tool paper_research({'topic': 'transformer architecture', 'max_results': 3})\n",
            "INFO:vinagent.agent.agent:Tool calling iteration 2/10\n",
            "INFO:httpx:HTTP Request: POST https://api.groq.com/openai/v1/chat/completions \"HTTP/1.1 200 OK\"\n",
            "INFO:vinagent.agent.agent:No more tool calls needed. Completed in 2 iterations.\n"
          ]
        },
        {
          "name": "stdout",
          "output_type": "stream",
          "text": [
            "--------------------------------------------------\n",
            "Transformer Architecture Papers:\n",
            "--------------------------------------------------\n",
            "The search results provide information on three papers related to the transformer architecture. Here are the key findings from each paper:\n",
            "\n",
            "1. **TurboViT: Generating Fast Vision Transformers via Generative Architecture Search** (arXiv ID: 2308.11421v1)\n",
            "   - **Authors**: Alexander Wong, Saad Abbasi, Saeejith Nair\n",
            "   - **Summary**: This paper introduces TurboViT, a highly efficient hierarchical vision transformer architecture designed using generative architecture search (GAS). TurboViT achieves a strong balance between accuracy and computational efficiency, outperforming state-of-the-art efficient vision transformer networks. It demonstrates significantly lower architectural and computational complexity while maintaining high accuracy on the ImageNet-1K dataset.\n",
            "\n",
            "2. **Differentiable Neural Architecture Transformation for Reproducible Architecture Improvement** (arXiv ID: 2006.08231v1)\n",
            "   - **Authors**: Do-Guk Kim, Heung-Chang Lee\n",
            "   - **Summary**: The authors propose a differentiable neural architecture transformation method that is reproducible and efficient. This method improves upon Neural Architecture Transformer (NAT) by addressing its limitations in reproducibility. The proposed approach shows stable performance across various architectures and datasets, including CIFAR-10 and Tiny Imagenet.\n",
            "\n",
            "3. **Interpretation of the Transformer and Improvement of the Extractor** (arXiv ID: 2311.12678v1)\n",
            "   - **Author**: Zhe Chen\n",
            "   - **Summary**: This paper provides a comprehensive interpretation of the Transformer architecture and its components, particularly focusing on the Extractor—a drop-in replacement for the multi-head self-attention mechanism. The author proposes an improvement to a type of Extractor that outperforms the self-attention mechanism without introducing additional trainable parameters. Experimental results demonstrate the improved performance of the proposed Extractor.\n",
            "\n",
            "These papers contribute to the advancement of transformer architectures, focusing on efficiency, reproducibility, and interpretation of the Transformer model.\n"
          ]
        }
      ],
      "source": [
        "# Search for transformer papers - tool returns both IDs and detailed info\n",
        "transformer_search = paper_agent.invoke(\"\"\"\n",
        "Search for 3 papers on 'transformer architecture'. \n",
        "The tool returns complete information including paper IDs, titles, authors, summaries, and publication dates.\n",
        "Please summarize the key findings from these papers.\n",
        "\"\"\")\n",
        "print(\"-\" * 50)\n",
        "print(\"Transformer Architecture Papers:\")\n",
        "print(\"-\" * 50)\n",
        "print(transformer_search.content)\n"
      ]
    },
    {
      "cell_type": "markdown",
      "metadata": {},
      "source": [
        "The agent returns a structured summary of three papers, including their arXiv IDs, titles, authors, publication dates, and key findings, such as advancements in efficiency or novel attention mechanisms."
      ]
    },
    {
      "cell_type": "markdown",
      "metadata": {},
      "source": [
        "## Use Case 2: Paper Analysis by ID\n",
        "\n",
        "A researcher is preparing a conference presentation and wants to dive deep into the seminal “Attention Is All You Need” paper and its recent derivatives to discuss advancements in attention mechanisms.\n",
        "\n",
        "This use case focuses on extracting detailed information from specific papers using their arXiv IDs. The agent retrieves comprehensive metadata and analyzes the content to highlight key contributions, recent improvements, and applications across domains."
      ]
    },
    {
      "cell_type": "code",
      "execution_count": 30,
      "metadata": {},
      "outputs": [
        {
          "name": "stderr",
          "output_type": "stream",
          "text": [
            "INFO:vinagent.agent.agent:No authentication card provided, skipping authentication\n",
            "INFO:vinagent.agent.agent:I'am chatting with unknown_user\n",
            "INFO:vinagent.agent.agent:Tool calling iteration 1/10\n",
            "INFO:httpx:HTTP Request: POST https://api.groq.com/openai/v1/chat/completions \"HTTP/1.1 200 OK\"\n",
            "INFO:vinagent.agent.agent:Executing tool call: {'tool_name': 'paper_research', 'tool_type': 'module', 'arguments': {'topic': 'attention mechanism transformer', 'max_results': 5}, 'module_path': 'vinagent.tools.paper_research_tools'}\n",
            "INFO:arxiv:Requesting page (first: True, try: 0): https://export.arxiv.org/api/query?search_query=attention+mechanism+transformer&id_list=&sortBy=relevance&sortOrder=descending&start=0&max_results=100\n",
            "INFO:arxiv:Got first page: 100 of 472692 total results\n",
            "INFO:vinagent.register.tool:Completed executing module tool paper_research({'topic': 'attention mechanism transformer', 'max_results': 5})\n",
            "INFO:vinagent.agent.agent:Tool calling iteration 2/10\n",
            "INFO:httpx:HTTP Request: POST https://api.groq.com/openai/v1/chat/completions \"HTTP/1.1 200 OK\"\n",
            "INFO:vinagent.agent.agent:No more tool calls needed. Completed in 2 iterations.\n"
          ]
        },
        {
          "name": "stdout",
          "output_type": "stream",
          "text": [
            "Attention Mechanism Papers:\n",
            "--------------------------------------------------\n",
            "Based on the search results, here's a report addressing the given question:\n",
            "\n",
            "### Seminal \"Attention Is All You Need\" Paper\n",
            "\n",
            "The seminal paper \"Attention Is All You Need\" is not directly found in the search results. However, the results provide insights into various attention mechanisms and their applications.\n",
            "\n",
            "### Recent Improvements to Attention Mechanisms\n",
            "\n",
            "1. **Generalized Probabilistic Attention Mechanism (GPAM)**: The paper \"Generalized Probabilistic Attention Mechanism in Transformers\" (arXiv ID: 2410.15578v1) introduces a novel class of attention mechanisms, GPAM, which addresses issues like rank-collapse and gradient vanishing in conventional attention mechanisms.\n",
            "2. **Adaptive Sparse and Monotonic Attention**: \"Adaptive Sparse and Monotonic Attention for Transformer-based Automatic Speech Recognition\" (arXiv ID: 2209.15176v1) integrates sparse attention and monotonic attention into Transformer-based ASR, improving the attention mechanism in speech recognition tasks.\n",
            "3. **Continuous-Time Attention**: \"Continuous-Time Attention: PDE-Guided Mechanisms for Long-Sequence Transformers\" (arXiv ID: 2505.20666v1) proposes a novel framework that infuses partial differential equations (PDEs) into the Transformer's attention mechanism, addressing challenges with extremely long input sequences.\n",
            "\n",
            "### Applications of Attention in Different Domains\n",
            "\n",
            "1. **Vision Transformers**: \"Self-attention in Vision Transformers Performs Perceptual Grouping, Not Attention\" (arXiv ID: 2303.01542v1) studies the role of attention mechanisms in vision transformers, finding that they perform similarity grouping rather than attention.\n",
            "2. **Automatic Speech Recognition**: \"Adaptive Sparse and Monotonic Attention for Transformer-based Automatic Speech Recognition\" (arXiv ID: 2209.15176v1) applies attention mechanisms to improve Transformer-based ASR.\n",
            "3. **Compact Self-Attention for Vision Transformers**: \"Armour: Generalizable Compact Self-Attention for Vision Transformers\" (arXiv ID: 2108.01778v1) introduces a compact self-attention mechanism for vision transformers, enhancing efficiency and accuracy.\n",
            "\n",
            "These papers represent recent advancements and applications of attention mechanisms in various domains, including natural language processing, computer vision, and speech recognition.\n"
          ]
        }
      ],
      "source": [
        "# Search papers about attention mechanisms to get comprehensive info\n",
        "attention_papers = paper_agent.invoke(\"\"\"\n",
        "Search for papers about 'attention mechanism transformer' and focus on:\n",
        "1. The seminal \"Attention Is All You Need\" paper if found\n",
        "2. Recent improvements to attention mechanisms\n",
        "3. Applications of attention in different domains\n",
        "\"\"\")\n",
        "\n",
        "print(\"Attention Mechanism Papers:\")\n",
        "print(\"-\" * 50)\n",
        "print(attention_papers.content)\n"
      ]
    },
    {
      "cell_type": "markdown",
      "metadata": {},
      "source": [
        "The agent provides a detailed report, noting if the seminal paper was found, summarizing improvements like probabilistic attention or sparse attention, and listing applications in vision, speech, and NLP."
      ]
    },
    {
      "cell_type": "markdown",
      "metadata": {},
      "source": [
        "## Use Case 3: Comparative Analysis\n",
        "\n",
        "A professor is designing a course module on reinforcement learning and needs to compare different approaches, such as Deep Q-Learning and Double Q-Learning, to teach students about their strengths and limitations.\n",
        "\n",
        "This use case involves searching for papers on a specific domain, comparing methodologies, performance metrics, and advantages/limitations. The agent synthesizes information from multiple papers to provide a structured comparison."
      ]
    },
    {
      "cell_type": "code",
      "execution_count": 31,
      "metadata": {},
      "outputs": [
        {
          "name": "stderr",
          "output_type": "stream",
          "text": [
            "INFO:vinagent.agent.agent:No authentication card provided, skipping authentication\n",
            "INFO:vinagent.agent.agent:I'am chatting with unknown_user\n",
            "INFO:vinagent.agent.agent:Tool calling iteration 1/10\n",
            "INFO:httpx:HTTP Request: POST https://api.groq.com/openai/v1/chat/completions \"HTTP/1.1 200 OK\"\n",
            "INFO:vinagent.agent.agent:Executing tool call: {'tool_name': 'paper_research', 'tool_type': 'module', 'arguments': {'topic': 'reinforcement learning deep Q-learning', 'max_results': 10}, 'module_path': 'vinagent.tools.paper_research_tools'}\n",
            "INFO:arxiv:Requesting page (first: True, try: 0): https://export.arxiv.org/api/query?search_query=reinforcement+learning+deep+Q-learning&id_list=&sortBy=relevance&sortOrder=descending&start=0&max_results=100\n",
            "INFO:arxiv:Got first page: 100 of 448206 total results\n",
            "INFO:vinagent.register.tool:Completed executing module tool paper_research({'topic': 'reinforcement learning deep Q-learning', 'max_results': 10})\n",
            "INFO:vinagent.agent.agent:Tool calling iteration 2/10\n",
            "INFO:httpx:HTTP Request: POST https://api.groq.com/openai/v1/chat/completions \"HTTP/1.1 200 OK\"\n",
            "INFO:vinagent.agent.agent:No more tool calls needed. Completed in 2 iterations.\n"
          ]
        },
        {
          "name": "stdout",
          "output_type": "stream",
          "text": [
            "Reinforcement Learning Comparison:\n",
            "--------------------------------------------------\n",
            "## Literature Review and Summary of Reinforcement Learning and Deep Q-Learning\n",
            "\n",
            "### Introduction\n",
            "\n",
            "Reinforcement learning (RL) is a subfield of machine learning that focuses on training agents to make decisions in complex, uncertain environments. Deep Q-learning, a type of RL, has gained significant attention in recent years due to its ability to learn from raw sensory inputs and make decisions in high-dimensional spaces. This literature review aims to provide an overview of the different methodologies, performance metrics, advantages, and limitations of various approaches in reinforcement learning and deep Q-learning.\n",
            "\n",
            "### Methodologies\n",
            "\n",
            "1. **Double Q-Learning:** This approach, used in papers such as \"Double Q-learning for Value-based Deep Reinforcement Learning, Revisited\" (arXiv ID: 2507.00275v1) and \"Decorrelated Double Q-learning\" (arXiv ID: 2006.06956v1), aims to reduce overestimation of Q-values by training two Q-functions and using both to de-correlate action-selection and action-evaluation in bootstrap targets.\n",
            "2. **Deep Q-Networks (DQN):** This foundational approach, used in papers such as \"Human-level control through deep reinforcement learning\" (arXiv ID: 1312.5602) and \"Rainbow: Combining Improvements in Deep Reinforcement Learning\" (arXiv ID: 1806.00568), uses a deep neural network to approximate the Q-function and has been widely used in various applications.\n",
            "3. **Dueling Networks:** This approach, used in papers such as \"Expert Q-learning: Deep Reinforcement Learning with Coarse State Values from Offline Expert Examples\" (arXiv ID: 2106.14642v5), separates the estimation of value and advantage functions, which can improve learning stability.\n",
            "4. **Prioritized Experience Replay:** This technique, used in papers such as \"Rainbow: Combining Improvements in Deep Reinforcement Learning\" (arXiv ID: 1806.00568), prioritizes experiences based on their importance, which can improve learning efficiency.\n",
            "\n",
            "### Performance Metrics\n",
            "\n",
            "1. **Atari Games:** Many papers, such as \"Deep Reinforcement Learning with Double Q-Learning\" (arXiv ID: 1509.06461) and \"Rainbow: Combining Improvements in Deep Reinforcement Learning\" (arXiv ID: 1806.00568), evaluate their performance on Atari2600 games, which provide a standard benchmark for RL algorithms.\n",
            "2. **Continuous Control Tasks:** Some papers, such as \"Decorrelated Double Q-learning\" (arXiv ID: 2006.06956v1) and \"A Deep Reinforcement Learning Approach to Learn Transferable Policies\" (arXiv ID: 1805.10209), evaluate their performance on robotic control tasks, which require learning complex control policies.\n",
            "\n",
            "### Advantages and Limitations\n",
            "\n",
            "1. **Double Q-Learning:** Advantages - reduces overestimation of Q-values; Limitations - can be computationally expensive.\n",
            "2. **DQN:** Advantages - simple and effective; Limitations - can suffer from overestimation of Q-values.\n",
            "3. **Dueling Networks:** Advantages - improves learning stability; Limitations - requires careful tuning of hyperparameters.\n",
            "4. **Prioritized Experience Replay:** Advantages - focuses on important experiences; Limitations - can introduce bias into the learning process.\n",
            "\n",
            "### Conclusion\n",
            "\n",
            "Reinforcement learning and deep Q-learning have made significant progress in recent years, with various approaches being proposed to improve learning efficiency and performance. This literature review provides an overview of the different methodologies, performance metrics, advantages, and limitations of various approaches in reinforcement learning and deep Q-learning. By understanding the strengths and weaknesses of each approach, researchers and practitioners can develop more effective RL algorithms and apply them to complex real-world problems.\n"
          ]
        }
      ],
      "source": [
        "# Compare reinforcement learning approaches\n",
        "rl_comparison = paper_agent.invoke(\"\"\"\n",
        "Search for papers on 'reinforcement learning' and 'deep Q-learning'. \n",
        "Compare the approaches and identify:\n",
        "1. Different methodologies used\n",
        "2. Performance metrics\n",
        "3. Advantages and limitations of each approach\n",
        "\"\"\")\n",
        "\n",
        "print(\"Reinforcement Learning Comparison:\")\n",
        "print(\"-\" * 50)\n",
        "print(rl_comparison.content)\n"
      ]
    },
    {
      "cell_type": "markdown",
      "metadata": {},
      "source": [
        "The agent generates a comparative analysis, detailing methodologies (e.g., DQN, Double Q-Learning), performance metrics (e.g., Atari game scores), and pros/cons (e.g., computational cost vs. stability)."
      ]
    },
    {
      "cell_type": "markdown",
      "metadata": {},
      "source": [
        "## Use Case 4: Literature Review Generation\n",
        "\n",
        "A postdoctoral researcher is writing a grant proposal on computer vision and object detection and needs a comprehensive literature review to justify the novelty of their work.\n",
        "\n",
        "This use case requires the agent to find key papers, organize them chronologically, summarize developments, and identify trends. The agent ensures the review is structured and covers significant advancements in the field."
      ]
    },
    {
      "cell_type": "code",
      "execution_count": 32,
      "metadata": {},
      "outputs": [
        {
          "name": "stderr",
          "output_type": "stream",
          "text": [
            "INFO:vinagent.agent.agent:No authentication card provided, skipping authentication\n",
            "INFO:vinagent.agent.agent:I'am chatting with unknown_user\n",
            "INFO:vinagent.agent.agent:Tool calling iteration 1/10\n",
            "INFO:httpx:HTTP Request: POST https://api.groq.com/openai/v1/chat/completions \"HTTP/1.1 200 OK\"\n",
            "INFO:vinagent.agent.agent:Executing tool call: {'tool_name': 'paper_research', 'tool_type': 'module', 'arguments': {'topic': 'computer vision object detection', 'max_results': 6}, 'module_path': 'vinagent.tools.paper_research_tools'}\n",
            "INFO:arxiv:Requesting page (first: True, try: 0): https://export.arxiv.org/api/query?search_query=computer+vision+object+detection&id_list=&sortBy=relevance&sortOrder=descending&start=0&max_results=100\n",
            "INFO:arxiv:Got first page: 100 of 952433 total results\n",
            "INFO:vinagent.register.tool:Completed executing module tool paper_research({'topic': 'computer vision object detection', 'max_results': 6})\n",
            "INFO:vinagent.agent.agent:Tool calling iteration 2/10\n",
            "INFO:httpx:HTTP Request: POST https://api.groq.com/openai/v1/chat/completions \"HTTP/1.1 200 OK\"\n",
            "INFO:vinagent.agent.agent:No more tool calls needed. Completed in 2 iterations.\n"
          ]
        },
        {
          "name": "stdout",
          "output_type": "stream",
          "text": [
            "Computer Vision Literature Review:\n",
            "--------------------------------------------------\n",
            "## Literature Review: Computer Vision and Object Detection\n",
            "\n",
            "### Introduction\n",
            "Computer vision and object detection are rapidly evolving fields within the broader domain of artificial intelligence. This literature review aims to highlight key developments, research trends, and important papers in the area of computer vision and object detection.\n",
            "\n",
            "### Important Papers\n",
            "\n",
            "1. **A Review of 3D Object Detection with Vision-Language Models** ([arxiv_id: 2504.18738v1](http://arxiv.org/pdf/2504.18738v1), Published: 2025-04-25)\n",
            "   - Authors: Ranjan Sapkota, Konstantinos I Roumeliotis, Rahul Harsha Cheppally, Marco Flores Calero, Manoj Karkee\n",
            "   - Summary: This review provides a systematic analysis of 3D object detection with vision-language models, a rapidly advancing area at the intersection of 3D vision and multimodal AI.\n",
            "\n",
            "2. **PROB: Probabilistic Objectness for Open World Object Detection** ([arxiv_id: 2212.01424v1](http://arxiv.org/pdf/2212.01424v1), Published: 2022-12-02)\n",
            "   - Authors: Orr Zohar, Kuan-Chieh Wang, Serena Yeung\n",
            "   - Summary: Introduces a novel probabilistic framework for objectness estimation, allowing for the detection of unknown objects in open-world settings.\n",
            "\n",
            "3. **Detect-and-describe: Joint learning framework for detection and description of objects** ([arxiv_id: 2204.08828v1](http://arxiv.org/pdf/2204.08828v1), Published: 2022-04-19)\n",
            "   - Authors: Addel Zafar, Umar Khalid\n",
            "   - Summary: Presents a new approach to simultaneously detect objects and infer their attributes, extending object detection to object attribute prediction.\n",
            "\n",
            "4. **Real-time Object Detection: YOLOv1 Re-Implementation in PyTorch** ([arxiv_id: 2305.17786v1](http://arxiv.org/pdf/2305.17786v1), Published: 2023-05-28)\n",
            "   - Author: Michael Shenoda\n",
            "   - Summary: A re-implementation of the YOLOv1 architecture using PyTorch for real-time object detection.\n",
            "\n",
            "5. **Visual Concept Detection and Real Time Object Detection** ([arxiv_id: 1104.0582v1](http://arxiv.org/pdf/1104.0582v1), Published: 2011-04-04)\n",
            "   - Author: Ran Tao\n",
            "   - Summary: Explores the bag-of-words model for visual concept detection and real-time object detection using SIFT and RANSAC.\n",
            "\n",
            "6. **Template Matching based Object Detection Using HOG Feature Pyramid** ([arxiv_id: 1406.7120v1](http://arxiv.org/pdf/1406.7120v1), Published: 2014-06-27)\n",
            "   - Author: Anish Acharya\n",
            "   - Summary: Provides a step-by-step development of designing an object detection scheme using the HOG-based Feature Pyramid aligned with the concept of Template Matching.\n",
            "\n",
            "### Chronological Organization\n",
            "\n",
            "1. 2011 - Visual Concept Detection and Real Time Object Detection ([arxiv_id: 1104.0582v1](http://arxiv.org/pdf/1104.0582v1))\n",
            "2. 2014 - Template Matching based Object Detection Using HOG Feature Pyramid ([arxiv_id: 1406.7120v1](http://arxiv.org/pdf/1406.7120v1))\n",
            "3. 2022 - PROB: Probabilistic Objectness for Open World Object Detection ([arxiv_id: 2212.01424v1](http://arxiv.org/pdf/2212.01424v1))\n",
            "4. 2022 - Detect-and-describe: Joint learning framework for detection and description of objects ([arxiv_id: 2204.08828v1](http://arxiv.org/pdf/2204.08828v1))\n",
            "5. 2023 - Real-time Object Detection: YOLOv1 Re-Implementation in PyTorch ([arxiv_id: 2305.17786v1](http://arxiv.org/pdf/2305.17786v1))\n",
            "6. 2025 - A Review of 3D Object Detection with Vision-Language Models ([arxiv_id: 2504.18738v1](http://arxiv.org/pdf/2504.18738v1))\n",
            "\n",
            "### Key Developments\n",
            "\n",
            "- **Advancements in Deep Learning**: The use of deep learning techniques has significantly improved object detection accuracy and efficiency.\n",
            "- **Real-Time Object Detection**: Methods like YOLO have enabled real-time object detection, crucial for applications requiring immediate decision-making.\n",
            "- **Open-World Object Detection**: The development of models like PROB, which can detect unknown objects in open-world settings, marks a significant shift towards more practical applications.\n",
            "- **Vision-Language Models**: The integration of vision-language models for 3D object detection represents a cutting-edge advancement, combining multimodal AI with 3D vision.\n",
            "\n",
            "### Research Trends\n",
            "\n",
            "- **Increased Focus on Deep Learning**: The field continues to leverage deep learning for improved object detection performance.\n",
            "- **Real-Time and Efficient Detection**: Research is trending towards developing more efficient models that can detect objects in real-time without compromising accuracy.\n",
            "- **Open-World and 3D Object Detection**: There is a growing interest in open-world object detection and 3D object detection, reflecting the need for more versatile and applicable models.\n",
            "\n",
            "This literature review highlights the significant progress made in computer vision and object detection, from traditional methods to the latest advancements in deep learning and multimodal models.\n"
          ]
        }
      ],
      "source": [
        "# Generate literature review for computer vision\n",
        "cv_review = paper_agent.invoke(\"\"\"\n",
        "Create a literature review for 'computer vision' and 'object detection':\n",
        "1. Find 5-6 important papers\n",
        "2. Organize them chronologically\n",
        "3. Summarize key developments\n",
        "4. Identify research trends\n",
        "\"\"\")\n",
        "\n",
        "print(\"Computer Vision Literature Review:\")\n",
        "print(\"-\" * 50)\n",
        "print(cv_review.content)\n"
      ]
    },
    {
      "cell_type": "markdown",
      "metadata": {},
      "source": [
        "The agent produces a literature review with a chronological list of 5-6 papers, summaries of key developments (e.g., YOLO, vision-language models), and trends like real-time detection or 3D object detection."
      ]
    },
    {
      "cell_type": "markdown",
      "metadata": {},
      "source": [
        "## Use Case 5: Multi-domain Research\n",
        "\n",
        "A data scientist at a tech company is exploring interdisciplinary applications combining NLP and computer vision for a new product feature, such as automated image captioning or visual question answering.\n",
        "\n",
        "This use case involves searching for papers that bridge multiple domains, comparing approaches, and listing applications. The agent identifies interdisciplinary papers and synthesizes their contributions to highlight practical use cases."
      ]
    },
    {
      "cell_type": "code",
      "execution_count": 33,
      "metadata": {},
      "outputs": [
        {
          "name": "stderr",
          "output_type": "stream",
          "text": [
            "INFO:vinagent.agent.agent:No authentication card provided, skipping authentication\n",
            "INFO:vinagent.agent.agent:I'am chatting with unknown_user\n",
            "INFO:vinagent.agent.agent:Tool calling iteration 1/10\n",
            "INFO:httpx:HTTP Request: POST https://api.groq.com/openai/v1/chat/completions \"HTTP/1.1 200 OK\"\n",
            "INFO:vinagent.agent.agent:Executing tool call: {'tool_name': 'paper_research', 'tool_type': 'module', 'module_path': 'vinagent.tools.paper_research_tools', 'arguments': {'topic': 'natural language processing AND computer vision', 'max_results': 5}}\n",
            "INFO:arxiv:Requesting page (first: True, try: 0): https://export.arxiv.org/api/query?search_query=natural+language+processing+AND+computer+vision&id_list=&sortBy=relevance&sortOrder=descending&start=0&max_results=100\n",
            "INFO:arxiv:Got first page: 100 of 166559 total results\n",
            "INFO:vinagent.register.tool:Completed executing module tool paper_research({'topic': 'natural language processing AND computer vision', 'max_results': 5})\n",
            "INFO:vinagent.agent.agent:Tool calling iteration 2/10\n",
            "INFO:httpx:HTTP Request: POST https://api.groq.com/openai/v1/chat/completions \"HTTP/1.1 200 OK\"\n",
            "INFO:vinagent.agent.agent:No more tool calls needed. Completed in 2 iterations.\n"
          ]
        },
        {
          "name": "stdout",
          "output_type": "stream",
          "text": [
            "Multi-domain Research:\n",
            "--------------------------------------------------\n",
            "## Interdisciplinary Papers\n",
            "\n",
            "Based on the search results from the \"paper_research\" tool, here are the interdisciplinary papers that combine 'natural language processing' and 'computer vision':\n",
            "\n",
            "1. **Attributes as Semantic Units between Natural Language and Visual Recognition** ([arXiv:1604.03249v1](http://arxiv.org/pdf/1604.03249v1))\n",
            "   - **Summary**: This paper discusses how attributes allow exchanging information between NLP and CV, enabling interaction on a semantic level. It covers using knowledge mined from language resources for recognizing novel visual categories, generating sentence descriptions about images and video, grounding natural language in visual content, and answering natural language questions about images.\n",
            "\n",
            "2. **Vision and Language: from Visual Perception to Content Creation** ([arXiv:1912.11872v1](http://arxiv.org/pdf/1912.11872v1))\n",
            "   - **Summary**: This paper reviews recent advances in \"vision to language\" and \"language to vision.\" It discusses tasks like image/video captioning, visual question answering, visual dialog, and language navigation. The paper also elaborates on the real-world deployment and services of vision and language.\n",
            "\n",
            "3. **Vision Language Transformers: A Survey** ([arXiv:2307.03254v1](http://arxiv.org/pdf/2307.03254v1))\n",
            "   - **Summary**: This survey provides a broad synthesis of research on vision language transformer models. It discusses their strengths, limitations, and open questions, highlighting their potential to advance tasks that require both vision and language.\n",
            "\n",
            "4. **Curriculum learning for language modeling** ([arXiv:2108.02170v1](http://arxiv.org/pdf/2108.02170v1))\n",
            "   - **Summary**: While primarily focused on language models, this paper explores curriculum learning in NLP, which can have implications for multimodal learning combining NLP and CV.\n",
            "\n",
            "5. **Vision-Language Pre-training with Object Contrastive Learning for 3D Scene Understanding** ([arXiv:2305.10714v1](http://arxiv.org/pdf/2305.10714v1))\n",
            "   - **Summary**: This paper proposes a vision-language pre-training framework for 3D scene understanding. It introduces object-level contrastive learning tasks to align objects with descriptions and distinguish different objects in the scene.\n",
            "\n",
            "## Approaches Comparison\n",
            "\n",
            "- **Attribute-based models** (e.g., [arXiv:1604.03249v1](http://arxiv.org/pdf/1604.03249v1)): Use attributes to bridge NLP and CV, enabling semantic-level interactions.\n",
            "- **Vision-language transformers** (e.g., [arXiv:2307.03254v1](http://arxiv.org/pdf/2307.03254v1)): Leverage transformer architectures for vision-language tasks, achieving state-of-the-art performance through pre-training and fine-tuning.\n",
            "- **Multimodal pre-training frameworks** (e.g., [arXiv:2305.10714v1](http://arxiv.org/pdf/2305.10714v1)): Focus on pre-training models that can handle 3D vision-language tasks, using object-level contrastive learning.\n",
            "\n",
            "## Applications and Use Cases\n",
            "\n",
            "1. **Image Captioning**: Automatically generating captions for images.\n",
            "2. **Visual Question Answering (VQA)**: Answering questions about images.\n",
            "3. **Multimodal Sentiment Analysis**: Analyzing sentiment from text and visual data.\n",
            "4. **3D Scene Understanding**: Interpreting and understanding 3D scenes using vision and language.\n",
            "5. **Visual Dialog**: Engaging in dialog about images.\n",
            "\n",
            "These papers and approaches highlight the growing interest in combining NLP and CV to enable more comprehensive understanding and interaction with visual and textual data.\n"
          ]
        }
      ],
      "source": [
        "# Research across multiple domains\n",
        "multi_domain = paper_agent.invoke(\"\"\"\n",
        "Search papers that combine 'natural language processing' and 'computer vision':\n",
        "1. Identify interdisciplinary papers\n",
        "2. Compare approaches that use both NLP and CV\n",
        "3. List applications and use cases\n",
        "\"\"\")\n",
        "\n",
        "print(\"Multi-domain Research:\")\n",
        "print(\"-\" * 50)\n",
        "print(multi_domain.content)\n"
      ]
    },
    {
      "cell_type": "markdown",
      "metadata": {},
      "source": [
        "The agent delivers a report listing interdisciplinary papers, comparing approaches (e.g., attribute-based models vs. vision-language transformers), and detailing applications like image captioning or 3D scene understanding."
      ]
    },
    {
      "cell_type": "markdown",
      "metadata": {},
      "source": [
        "## Conclusion\n",
        "\n",
        "The Researcher Agent built with Vinagent facilitates academic research by automating the discovery, analysis, and synthesis of arXiv papers. By following a structured design process and addressing real-world use cases, the agent empowers researchers to tackle complex tasks efficiently. From topic-based searches to interdisciplinary analyses, this tool provides a scalable and user-friendly solution for navigating the vast landscape of academic literature."
      ]
    }
  ],
  "metadata": {
    "kernelspec": {
      "display_name": ".venv",
      "language": "python",
      "name": "python3"
    },
    "language_info": {
      "codemirror_mode": {
        "name": "ipython",
        "version": 3
      },
      "file_extension": ".py",
      "mimetype": "text/x-python",
      "name": "python",
      "nbconvert_exporter": "python",
      "pygments_lexer": "ipython3",
      "version": "3.10.10"
    }
  },
  "nbformat": 4,
  "nbformat_minor": 2
}
